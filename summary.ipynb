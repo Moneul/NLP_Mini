{
 "cells": [
  {
   "cell_type": "code",
   "execution_count": 1,
   "metadata": {},
   "outputs": [],
   "source": [
    "import pandas as pd\n",
    "import hgtk"
   ]
  },
  {
   "cell_type": "code",
   "execution_count": 2,
   "metadata": {},
   "outputs": [
    {
     "data": {
      "text/html": [
       "<div>\n",
       "<style scoped>\n",
       "    .dataframe tbody tr th:only-of-type {\n",
       "        vertical-align: middle;\n",
       "    }\n",
       "\n",
       "    .dataframe tbody tr th {\n",
       "        vertical-align: top;\n",
       "    }\n",
       "\n",
       "    .dataframe thead th {\n",
       "        text-align: right;\n",
       "    }\n",
       "</style>\n",
       "<table border=\"1\" class=\"dataframe\">\n",
       "  <thead>\n",
       "    <tr style=\"text-align: right;\">\n",
       "      <th></th>\n",
       "      <th>passage</th>\n",
       "      <th>summary</th>\n",
       "      <th>passage_morphs</th>\n",
       "      <th>summary_morphs</th>\n",
       "    </tr>\n",
       "  </thead>\n",
       "  <tbody>\n",
       "    <tr>\n",
       "      <th>0</th>\n",
       "      <td>지금의 국가가 직면하는 위기는 전통사회의 그것과 위기의 규모뿐만아니라 종류와 성질 ...</td>\n",
       "      <td>현대 사회에서 발생하는 다양하고 복잡한 위기는 과거와 다르게 국가의 재난으로 이어질...</td>\n",
       "      <td>['지금', '의', '국가', '가', '직면', '하', '는', '위기', '...</td>\n",
       "      <td>['현대', '사회', '에서', '발생', '하', '는', '다양', '하', ...</td>\n",
       "    </tr>\n",
       "    <tr>\n",
       "      <th>1</th>\n",
       "      <td>자연재해나 불량 수산식품 파동 등의 인위적 재난이 수산분야 피해로이어질 경우 일반분...</td>\n",
       "      <td>수산분야의 인위적 재난 시수산물 수급 문제로 생산자들의 매출이 크게 줄고, 시장 전...</td>\n",
       "      <td>['자연재해', '나', '불량', '수산', '식품', '파동', '등', '의'...</td>\n",
       "      <td>['수산', '분야', '의', '인위', '적', '재난', '시수', '산물',...</td>\n",
       "    </tr>\n",
       "    <tr>\n",
       "      <th>2</th>\n",
       "      <td>하지만 이와 반대로 MG 파동 이후 기간(2005.10～2011.12)의 경우에는 ...</td>\n",
       "      <td>MG 파동 이후에는 양식 송어의 생산량의 증가가 통계적 유의성을 갖는 것으로 드러났...</td>\n",
       "      <td>['하지만', '이', '와', '반', '대로', 'MG', '파동', '이후',...</td>\n",
       "      <td>['MG', '파동', '이후', '에', '는', '양식', '송어', '의', ...</td>\n",
       "    </tr>\n",
       "    <tr>\n",
       "      <th>3</th>\n",
       "      <td>그러나 사회적 이슈가 발생하였을 경우에 전문적으로 이러한 정보를 수집하고 분석하는 ...</td>\n",
       "      <td>사회적 이슈 발생 시 전문적으로 정보 수집 및 분석을 하는 관측 시스템이 아직 구축...</td>\n",
       "      <td>['그러나', '사회', '적', '이슈', '가', '발생', '하', '였을',...</td>\n",
       "      <td>['사회', '적', '이슈', '발생', '시', '전문', '적', '으로', ...</td>\n",
       "    </tr>\n",
       "    <tr>\n",
       "      <th>4</th>\n",
       "      <td>네 번째는 공급감소로 국내 물량이 부족하게 되면 유통질서가 왜곡될 가능성이 많기 때...</td>\n",
       "      <td>일부 경우에서의 유통질서 혼란을 방지하기 위해 거래형태의 변형이 필요하다. 의도적 ...</td>\n",
       "      <td>['네', '번', '째', '는', '공급', '감소', '로', '국내', '물...</td>\n",
       "      <td>['일부', '경우', '에서', '의', '유통', '질서', '혼란', '을',...</td>\n",
       "    </tr>\n",
       "  </tbody>\n",
       "</table>\n",
       "</div>"
      ],
      "text/plain": [
       "                                             passage  \\\n",
       "0  지금의 국가가 직면하는 위기는 전통사회의 그것과 위기의 규모뿐만아니라 종류와 성질 ...   \n",
       "1  자연재해나 불량 수산식품 파동 등의 인위적 재난이 수산분야 피해로이어질 경우 일반분...   \n",
       "2  하지만 이와 반대로 MG 파동 이후 기간(2005.10～2011.12)의 경우에는 ...   \n",
       "3  그러나 사회적 이슈가 발생하였을 경우에 전문적으로 이러한 정보를 수집하고 분석하는 ...   \n",
       "4  네 번째는 공급감소로 국내 물량이 부족하게 되면 유통질서가 왜곡될 가능성이 많기 때...   \n",
       "\n",
       "                                             summary  \\\n",
       "0  현대 사회에서 발생하는 다양하고 복잡한 위기는 과거와 다르게 국가의 재난으로 이어질...   \n",
       "1  수산분야의 인위적 재난 시수산물 수급 문제로 생산자들의 매출이 크게 줄고, 시장 전...   \n",
       "2  MG 파동 이후에는 양식 송어의 생산량의 증가가 통계적 유의성을 갖는 것으로 드러났...   \n",
       "3  사회적 이슈 발생 시 전문적으로 정보 수집 및 분석을 하는 관측 시스템이 아직 구축...   \n",
       "4  일부 경우에서의 유통질서 혼란을 방지하기 위해 거래형태의 변형이 필요하다. 의도적 ...   \n",
       "\n",
       "                                      passage_morphs  \\\n",
       "0  ['지금', '의', '국가', '가', '직면', '하', '는', '위기', '...   \n",
       "1  ['자연재해', '나', '불량', '수산', '식품', '파동', '등', '의'...   \n",
       "2  ['하지만', '이', '와', '반', '대로', 'MG', '파동', '이후',...   \n",
       "3  ['그러나', '사회', '적', '이슈', '가', '발생', '하', '였을',...   \n",
       "4  ['네', '번', '째', '는', '공급', '감소', '로', '국내', '물...   \n",
       "\n",
       "                                      summary_morphs  \n",
       "0  ['현대', '사회', '에서', '발생', '하', '는', '다양', '하', ...  \n",
       "1  ['수산', '분야', '의', '인위', '적', '재난', '시수', '산물',...  \n",
       "2  ['MG', '파동', '이후', '에', '는', '양식', '송어', '의', ...  \n",
       "3  ['사회', '적', '이슈', '발생', '시', '전문', '적', '으로', ...  \n",
       "4  ['일부', '경우', '에서', '의', '유통', '질서', '혼란', '을',...  "
      ]
     },
     "execution_count": 2,
     "metadata": {},
     "output_type": "execute_result"
    }
   ],
   "source": [
    "import pandas as pd\n",
    "\n",
    "path = './data/booksummary/mecab_morphs.csv'\n",
    "raw = pd.read_csv(path)\n",
    "df = raw.copy()\n",
    "df.head()"
   ]
  },
  {
   "cell_type": "code",
   "execution_count": 3,
   "metadata": {},
   "outputs": [
    {
     "data": {
      "text/plain": [
       "Index(['passage', 'summary', 'passage_morphs', 'summary_morphs'], dtype='object')"
      ]
     },
     "execution_count": 3,
     "metadata": {},
     "output_type": "execute_result"
    }
   ],
   "source": [
    "df.columns"
   ]
  },
  {
   "cell_type": "code",
   "execution_count": 4,
   "metadata": {},
   "outputs": [],
   "source": [
    "df = df[['passage_morphs', 'summary_morphs']]"
   ]
  },
  {
   "cell_type": "code",
   "execution_count": 5,
   "metadata": {},
   "outputs": [
    {
     "data": {
      "text/html": [
       "<div>\n",
       "<style scoped>\n",
       "    .dataframe tbody tr th:only-of-type {\n",
       "        vertical-align: middle;\n",
       "    }\n",
       "\n",
       "    .dataframe tbody tr th {\n",
       "        vertical-align: top;\n",
       "    }\n",
       "\n",
       "    .dataframe thead th {\n",
       "        text-align: right;\n",
       "    }\n",
       "</style>\n",
       "<table border=\"1\" class=\"dataframe\">\n",
       "  <thead>\n",
       "    <tr style=\"text-align: right;\">\n",
       "      <th></th>\n",
       "      <th>passage_morphs</th>\n",
       "      <th>summary_morphs</th>\n",
       "    </tr>\n",
       "  </thead>\n",
       "  <tbody>\n",
       "    <tr>\n",
       "      <th>0</th>\n",
       "      <td>['지금', '의', '국가', '가', '직면', '하', '는', '위기', '...</td>\n",
       "      <td>['현대', '사회', '에서', '발생', '하', '는', '다양', '하', ...</td>\n",
       "    </tr>\n",
       "    <tr>\n",
       "      <th>1</th>\n",
       "      <td>['자연재해', '나', '불량', '수산', '식품', '파동', '등', '의'...</td>\n",
       "      <td>['수산', '분야', '의', '인위', '적', '재난', '시수', '산물',...</td>\n",
       "    </tr>\n",
       "    <tr>\n",
       "      <th>2</th>\n",
       "      <td>['하지만', '이', '와', '반', '대로', 'MG', '파동', '이후',...</td>\n",
       "      <td>['MG', '파동', '이후', '에', '는', '양식', '송어', '의', ...</td>\n",
       "    </tr>\n",
       "    <tr>\n",
       "      <th>3</th>\n",
       "      <td>['그러나', '사회', '적', '이슈', '가', '발생', '하', '였을',...</td>\n",
       "      <td>['사회', '적', '이슈', '발생', '시', '전문', '적', '으로', ...</td>\n",
       "    </tr>\n",
       "    <tr>\n",
       "      <th>4</th>\n",
       "      <td>['네', '번', '째', '는', '공급', '감소', '로', '국내', '물...</td>\n",
       "      <td>['일부', '경우', '에서', '의', '유통', '질서', '혼란', '을',...</td>\n",
       "    </tr>\n",
       "    <tr>\n",
       "      <th>...</th>\n",
       "      <td>...</td>\n",
       "      <td>...</td>\n",
       "    </tr>\n",
       "    <tr>\n",
       "      <th>158461</th>\n",
       "      <td>['지도자', '로', '등장', '한', '2012', '년', '부터', '20...</td>\n",
       "      <td>['2012', '년', '김정은', '은', '국가', '운영', '과', '관련...</td>\n",
       "    </tr>\n",
       "    <tr>\n",
       "      <th>158462</th>\n",
       "      <td>['그러나', '공공', '도서관', '은', '과거', '도서', '출판', '의...</td>\n",
       "      <td>['양', '적', '성장', '을', '추구', '했', '던', '공공', '도...</td>\n",
       "    </tr>\n",
       "    <tr>\n",
       "      <th>158463</th>\n",
       "      <td>['작', '은', '도서관', '의', '이용자', '가', '이동', '에', ...</td>\n",
       "      <td>['작', '은', '도서관', '이용자', '가', '도보이', '동반', '경'...</td>\n",
       "    </tr>\n",
       "    <tr>\n",
       "      <th>158464</th>\n",
       "      <td>['공공', '도서관', '사서', '는', '정보', '가', '축적', '된',...</td>\n",
       "      <td>['공공', '도서관', '사서', '는', '정보', '자료', '를', '국민'...</td>\n",
       "    </tr>\n",
       "    <tr>\n",
       "      <th>158465</th>\n",
       "      <td>['2018', '년', '콘텐츠', '산업', '사업체', '수', '는', '1...</td>\n",
       "      <td>['2018', '년', '기준', '지난', '4', '년', '간', '콘텐츠'...</td>\n",
       "    </tr>\n",
       "  </tbody>\n",
       "</table>\n",
       "<p>158466 rows × 2 columns</p>\n",
       "</div>"
      ],
      "text/plain": [
       "                                           passage_morphs  \\\n",
       "0       ['지금', '의', '국가', '가', '직면', '하', '는', '위기', '...   \n",
       "1       ['자연재해', '나', '불량', '수산', '식품', '파동', '등', '의'...   \n",
       "2       ['하지만', '이', '와', '반', '대로', 'MG', '파동', '이후',...   \n",
       "3       ['그러나', '사회', '적', '이슈', '가', '발생', '하', '였을',...   \n",
       "4       ['네', '번', '째', '는', '공급', '감소', '로', '국내', '물...   \n",
       "...                                                   ...   \n",
       "158461  ['지도자', '로', '등장', '한', '2012', '년', '부터', '20...   \n",
       "158462  ['그러나', '공공', '도서관', '은', '과거', '도서', '출판', '의...   \n",
       "158463  ['작', '은', '도서관', '의', '이용자', '가', '이동', '에', ...   \n",
       "158464  ['공공', '도서관', '사서', '는', '정보', '가', '축적', '된',...   \n",
       "158465  ['2018', '년', '콘텐츠', '산업', '사업체', '수', '는', '1...   \n",
       "\n",
       "                                           summary_morphs  \n",
       "0       ['현대', '사회', '에서', '발생', '하', '는', '다양', '하', ...  \n",
       "1       ['수산', '분야', '의', '인위', '적', '재난', '시수', '산물',...  \n",
       "2       ['MG', '파동', '이후', '에', '는', '양식', '송어', '의', ...  \n",
       "3       ['사회', '적', '이슈', '발생', '시', '전문', '적', '으로', ...  \n",
       "4       ['일부', '경우', '에서', '의', '유통', '질서', '혼란', '을',...  \n",
       "...                                                   ...  \n",
       "158461  ['2012', '년', '김정은', '은', '국가', '운영', '과', '관련...  \n",
       "158462  ['양', '적', '성장', '을', '추구', '했', '던', '공공', '도...  \n",
       "158463  ['작', '은', '도서관', '이용자', '가', '도보이', '동반', '경'...  \n",
       "158464  ['공공', '도서관', '사서', '는', '정보', '자료', '를', '국민'...  \n",
       "158465  ['2018', '년', '기준', '지난', '4', '년', '간', '콘텐츠'...  \n",
       "\n",
       "[158466 rows x 2 columns]"
      ]
     },
     "execution_count": 5,
     "metadata": {},
     "output_type": "execute_result"
    }
   ],
   "source": [
    "df"
   ]
  },
  {
   "cell_type": "code",
   "execution_count": 6,
   "metadata": {},
   "outputs": [
    {
     "data": {
      "text/plain": [
       "\"['지금', '의', '국가', '가', '직면', '하', '는', '위기', '는', '전통', '사회', '의', '그것', '과', '위기', '의', '규모', '뿐', '만', '아니', '라', '종류', '와', '성질', '면', '에서', '사뭇', '다르', '다고', '할', '수', '있', '다', '.', '즉', '현대', '사회', '에서', '는', '매우', '다양', '하', '고', '광범위', '하', '게', '위기', '가', '발생', '할', '뿐', '만', '아니', '라', '지', '구', '온난', '화', '에', '따른', '각종', '자연재해', '로부터', '인위', '적', '재난', '인', '사회', '적', '이슈', '로', '인한', '위기', '에', '이르', '기', '까지', '복잡', '한', '양상', '을', '보이', '고', '있', '다', '.', '따라서', '위기', '의', '영향', '은', '한', '산업', '뿐', '만', '아니', '라', '국가', '의', '재난', '으로', '이어지', '는', '경우', '가', '많', '다', '.', '따라서', '국가', '는', '이러', '한', '위기', '상황', '이', '발생', '하', '였을', '경우', '에', '그', '징후', '를', '빨리', '파악', '하', '고', '대응', '하', '지', '않', '으면', '안', '되', '는데', ',', '국민', '의', '생명', '과', '재산', '을', '보호', '하', '는', '것', '이', '바로', '국가', '의', '가장', '기본', '적', '인', '의무', '이', '기', '때문', '이', '다', '.']\""
      ]
     },
     "execution_count": 6,
     "metadata": {},
     "output_type": "execute_result"
    }
   ],
   "source": [
    "df['passage_morphs'][0]"
   ]
  },
  {
   "cell_type": "code",
   "execution_count": 7,
   "metadata": {},
   "outputs": [
    {
     "data": {
      "text/plain": [
       "str"
      ]
     },
     "execution_count": 7,
     "metadata": {},
     "output_type": "execute_result"
    }
   ],
   "source": [
    "type(df['passage_morphs'][0])"
   ]
  },
  {
   "cell_type": "code",
   "execution_count": 6,
   "metadata": {},
   "outputs": [],
   "source": [
    "import ast\n",
    "df['passage_morphs'] = df['passage_morphs'].apply(ast.literal_eval)\n",
    "df['summary_morphs'] = df['summary_morphs'].apply(ast.literal_eval)"
   ]
  },
  {
   "cell_type": "code",
   "execution_count": 9,
   "metadata": {},
   "outputs": [],
   "source": [
    "# # 토큰화 함수 정의\n",
    "# def tokenize(sentences):\n",
    "#     return [sentence.split() for sentence in sentences]"
   ]
  },
  {
   "cell_type": "code",
   "execution_count": 13,
   "metadata": {},
   "outputs": [
    {
     "name": "stdout",
     "output_type": "stream",
     "text": [
      "['지금', '의', '국가', '가', '직면', '하', '는', '위기', '는', '전통', '사회', '의', '그것', '과', '위기', '의', '규모', '뿐', '만', '아니', '라', '종류', '와', '성질', '면', '에서', '사뭇', '다르', '다고', '할', '수', '있', '다', '.', '즉', '현대', '사회', '에서', '는', '매우', '다양', '하', '고', '광범위', '하', '게', '위기', '가', '발생', '할', '뿐', '만', '아니', '라', '지', '구', '온난', '화', '에', '따른', '각종', '자연재해', '로부터', '인위', '적', '재난', '인', '사회', '적', '이슈', '로', '인한', '위기', '에', '이르', '기', '까지', '복잡', '한', '양상', '을', '보이', '고', '있', '다', '.', '따라서', '위기', '의', '영향', '은', '한', '산업', '뿐', '만', '아니', '라', '국가', '의', '재난', '으로', '이어지', '는', '경우', '가', '많', '다', '.', '따라서', '국가', '는', '이러', '한', '위기', '상황', '이', '발생', '하', '였을', '경우', '에', '그', '징후', '를', '빨리', '파악', '하', '고', '대응', '하', '지', '않', '으면', '안', '되', '는데', ',', '국민', '의', '생명', '과', '재산', '을', '보호', '하', '는', '것', '이', '바로', '국가', '의', '가장', '기본', '적', '인', '의무', '이', '기', '때문', '이', '다', '.']\n"
     ]
    }
   ],
   "source": [
    "print(df['passage_morphs'][0])"
   ]
  },
  {
   "cell_type": "code",
   "execution_count": 17,
   "metadata": {},
   "outputs": [
    {
     "data": {
      "text/plain": [
       "160"
      ]
     },
     "execution_count": 17,
     "metadata": {},
     "output_type": "execute_result"
    }
   ],
   "source": [
    "len(df['passage_morphs'][0])\n",
    "len(df['passage_morphs'][1])"
   ]
  },
  {
   "cell_type": "code",
   "execution_count": 7,
   "metadata": {},
   "outputs": [
    {
     "data": {
      "text/html": [
       "<div>\n",
       "<style scoped>\n",
       "    .dataframe tbody tr th:only-of-type {\n",
       "        vertical-align: middle;\n",
       "    }\n",
       "\n",
       "    .dataframe tbody tr th {\n",
       "        vertical-align: top;\n",
       "    }\n",
       "\n",
       "    .dataframe thead th {\n",
       "        text-align: right;\n",
       "    }\n",
       "</style>\n",
       "<table border=\"1\" class=\"dataframe\">\n",
       "  <thead>\n",
       "    <tr style=\"text-align: right;\">\n",
       "      <th></th>\n",
       "      <th>passage_morphs</th>\n",
       "      <th>summary_morphs</th>\n",
       "    </tr>\n",
       "  </thead>\n",
       "  <tbody>\n",
       "    <tr>\n",
       "      <th>39151</th>\n",
       "      <td>[통계, 의, 신뢰, 도, 제고, 를, 위해, 통계, 의, 올바른, 활용, 에, 대...</td>\n",
       "      <td>[통계, 의, 신뢰, 도, 제고, 는, 통계, 의, 활용, 에, 대한, 정확, 한,...</td>\n",
       "    </tr>\n",
       "  </tbody>\n",
       "</table>\n",
       "</div>"
      ],
      "text/plain": [
       "                                          passage_morphs  \\\n",
       "39151  [통계, 의, 신뢰, 도, 제고, 를, 위해, 통계, 의, 올바른, 활용, 에, 대...   \n",
       "\n",
       "                                          summary_morphs  \n",
       "39151  [통계, 의, 신뢰, 도, 제고, 는, 통계, 의, 활용, 에, 대한, 정확, 한,...  "
      ]
     },
     "execution_count": 7,
     "metadata": {},
     "output_type": "execute_result"
    }
   ],
   "source": [
    "df[df['passage_morphs'].apply(len)==22]"
   ]
  },
  {
   "cell_type": "code",
   "execution_count": 102,
   "metadata": {},
   "outputs": [
    {
     "ename": "AttributeError",
     "evalue": "'list' object has no attribute 'item'",
     "output_type": "error",
     "traceback": [
      "\u001b[1;31m---------------------------------------------------------------------------\u001b[0m",
      "\u001b[1;31mAttributeError\u001b[0m                            Traceback (most recent call last)",
      "Cell \u001b[1;32mIn[102], line 1\u001b[0m\n\u001b[1;32m----> 1\u001b[0m df[\u001b[39m'\u001b[39;49m\u001b[39mpassage_morphs\u001b[39;49m\u001b[39m'\u001b[39;49m][\u001b[39m0\u001b[39;49m]\u001b[39m.\u001b[39;49mitem\n",
      "\u001b[1;31mAttributeError\u001b[0m: 'list' object has no attribute 'item'"
     ]
    }
   ],
   "source": [
    "df['passage_morphs'][0]"
   ]
  },
  {
   "cell_type": "code",
   "execution_count": 31,
   "metadata": {},
   "outputs": [
    {
     "data": {
      "text/plain": [
       "['통계',\n",
       " '의',\n",
       " '신뢰',\n",
       " '도',\n",
       " '제고',\n",
       " '를',\n",
       " '위해',\n",
       " '통계',\n",
       " '의',\n",
       " '올바른',\n",
       " '활용',\n",
       " '에',\n",
       " '대한',\n",
       " '정확',\n",
       " '한',\n",
       " '정보',\n",
       " '공유',\n",
       " '가',\n",
       " '필요',\n",
       " '하',\n",
       " '다',\n",
       " '.']"
      ]
     },
     "execution_count": 31,
     "metadata": {},
     "output_type": "execute_result"
    }
   ],
   "source": [
    "df['passage_morphs'][39151]"
   ]
  },
  {
   "cell_type": "code",
   "execution_count": 8,
   "metadata": {},
   "outputs": [
    {
     "name": "stdout",
     "output_type": "stream",
     "text": [
      "passage_morphs    0\n",
      "summary_morphs    0\n",
      "dtype: int64\n"
     ]
    }
   ],
   "source": [
    "import numpy as np\n",
    "# 길이가 공백인 샘플은 NULL 값으로 변환\n",
    "df.replace('', np.nan, inplace=True)\n",
    "print(df.isnull().sum())"
   ]
  },
  {
   "cell_type": "code",
   "execution_count": 32,
   "metadata": {},
   "outputs": [
    {
     "data": {
      "text/html": [
       "<div>\n",
       "<style scoped>\n",
       "    .dataframe tbody tr th:only-of-type {\n",
       "        vertical-align: middle;\n",
       "    }\n",
       "\n",
       "    .dataframe tbody tr th {\n",
       "        vertical-align: top;\n",
       "    }\n",
       "\n",
       "    .dataframe thead th {\n",
       "        text-align: right;\n",
       "    }\n",
       "</style>\n",
       "<table border=\"1\" class=\"dataframe\">\n",
       "  <thead>\n",
       "    <tr style=\"text-align: right;\">\n",
       "      <th></th>\n",
       "      <th>passage_morphs</th>\n",
       "      <th>summary_morphs</th>\n",
       "    </tr>\n",
       "  </thead>\n",
       "  <tbody>\n",
       "    <tr>\n",
       "      <th>14009</th>\n",
       "      <td>[MSC, CoC, (, Chain, of, Custody, ), 인증, (, 생산...</td>\n",
       "      <td>[MSC, CoC, 인증, .]</td>\n",
       "    </tr>\n",
       "  </tbody>\n",
       "</table>\n",
       "</div>"
      ],
      "text/plain": [
       "                                          passage_morphs     summary_morphs\n",
       "14009  [MSC, CoC, (, Chain, of, Custody, ), 인증, (, 생산...  [MSC, CoC, 인증, .]"
      ]
     },
     "execution_count": 32,
     "metadata": {},
     "output_type": "execute_result"
    }
   ],
   "source": [
    "df[df['summary_morphs'].apply(len)==4]"
   ]
  },
  {
   "cell_type": "code",
   "execution_count": 9,
   "metadata": {},
   "outputs": [
    {
     "name": "stdout",
     "output_type": "stream",
     "text": [
      "텍스트의 최소 길이 : 22\n",
      "텍스트의 최대 길이 : 673\n",
      "텍스트의 평균 길이 : 222.7097547738947\n",
      "요약의 최소 길이 : 4\n",
      "요약의 최대 길이 : 190\n",
      "요약의 평균 길이 : 58.6027286610377\n",
      "요약의 75% 분위수 : 68.0\n",
      "텍스트의 75% 분위수 : 256.0\n"
     ]
    },
    {
     "data": {
      "image/png": "[encoded data removed]",
      "text/plain": [
       "<Figure size 640x480 with 2 Axes>"
      ]
     },
     "metadata": {},
     "output_type": "display_data"
    },
    {
     "data": {
      "image/png": "[encoded data removed]",
      "text/plain": [
       "<Figure size 640x480 with 1 Axes>"
      ]
     },
     "metadata": {},
     "output_type": "display_data"
    },
    {
     "data": {
      "image/png": "[encoded data removed]",
      "text/plain": [
       "<Figure size 640x480 with 1 Axes>"
      ]
     },
     "metadata": {},
     "output_type": "display_data"
    }
   ],
   "source": [
    "import matplotlib.pyplot as plt\n",
    "text_len = [len(s) for s in df['passage_morphs']]\n",
    "summary_len = [len(s) for s in df['summary_morphs']]\n",
    "\n",
    "print('텍스트의 최소 길이 : {}'.format(np.min(text_len)))\n",
    "print('텍스트의 최대 길이 : {}'.format(np.max(text_len)))\n",
    "print('텍스트의 평균 길이 : {}'.format(np.mean(text_len)))\n",
    "print('요약의 최소 길이 : {}'.format(np.min(summary_len)))\n",
    "print('요약의 최대 길이 : {}'.format(np.max(summary_len)))\n",
    "print('요약의 평균 길이 : {}'.format(np.mean(summary_len)))\n",
    "\n",
    "# 75% 분위수 구하기\n",
    "summary_75th_percentile = np.percentile(summary_len, 75)\n",
    "text_75th_percentile = np.percentile(text_len, 75)\n",
    "\n",
    "print('요약의 75% 분위수 : {}'.format(summary_75th_percentile))\n",
    "print('텍스트의 75% 분위수 : {}'.format(text_75th_percentile))\n",
    "\n",
    "plt.subplot(1,2,1)\n",
    "plt.boxplot(summary_len)\n",
    "plt.title('Summary')\n",
    "plt.subplot(1,2,2)\n",
    "plt.boxplot(text_len)\n",
    "plt.title('Text')\n",
    "plt.tight_layout()\n",
    "plt.show()\n",
    "\n",
    "plt.title('Summary')\n",
    "plt.hist(summary_len, bins=40)\n",
    "plt.xlabel('length of samples')\n",
    "plt.ylabel('number of samples')\n",
    "plt.show()\n",
    "\n",
    "plt.title('Text')\n",
    "plt.hist(text_len, bins=40)\n",
    "plt.xlabel('length of samples')\n",
    "plt.ylabel('number of samples')\n",
    "plt.show()"
   ]
  },
  {
   "cell_type": "code",
   "execution_count": 33,
   "metadata": {},
   "outputs": [
    {
     "data": {
      "text/html": [
       "<div>\n",
       "<style scoped>\n",
       "    .dataframe tbody tr th:only-of-type {\n",
       "        vertical-align: middle;\n",
       "    }\n",
       "\n",
       "    .dataframe tbody tr th {\n",
       "        vertical-align: top;\n",
       "    }\n",
       "\n",
       "    .dataframe thead th {\n",
       "        text-align: right;\n",
       "    }\n",
       "</style>\n",
       "<table border=\"1\" class=\"dataframe\">\n",
       "  <thead>\n",
       "    <tr style=\"text-align: right;\">\n",
       "      <th></th>\n",
       "      <th>passage_morphs</th>\n",
       "      <th>summary_morphs</th>\n",
       "    </tr>\n",
       "  </thead>\n",
       "  <tbody>\n",
       "    <tr>\n",
       "      <th>14009</th>\n",
       "      <td>[MSC, CoC, (, Chain, of, Custody, ), 인증, (, 생산...</td>\n",
       "      <td>[MSC, CoC, 인증, .]</td>\n",
       "    </tr>\n",
       "  </tbody>\n",
       "</table>\n",
       "</div>"
      ],
      "text/plain": [
       "                                          passage_morphs     summary_morphs\n",
       "14009  [MSC, CoC, (, Chain, of, Custody, ), 인증, (, 생산...  [MSC, CoC, 인증, .]"
      ]
     },
     "execution_count": 33,
     "metadata": {},
     "output_type": "execute_result"
    }
   ],
   "source": [
    "df[df['summary_morphs'].apply(len)==4]"
   ]
  },
  {
   "cell_type": "code",
   "execution_count": 34,
   "metadata": {},
   "outputs": [
    {
     "data": {
      "text/html": [
       "<div>\n",
       "<style scoped>\n",
       "    .dataframe tbody tr th:only-of-type {\n",
       "        vertical-align: middle;\n",
       "    }\n",
       "\n",
       "    .dataframe tbody tr th {\n",
       "        vertical-align: top;\n",
       "    }\n",
       "\n",
       "    .dataframe thead th {\n",
       "        text-align: right;\n",
       "    }\n",
       "</style>\n",
       "<table border=\"1\" class=\"dataframe\">\n",
       "  <thead>\n",
       "    <tr style=\"text-align: right;\">\n",
       "      <th></th>\n",
       "      <th>passage_morphs</th>\n",
       "      <th>summary_morphs</th>\n",
       "    </tr>\n",
       "  </thead>\n",
       "  <tbody>\n",
       "    <tr>\n",
       "      <th>39151</th>\n",
       "      <td>[통계, 의, 신뢰, 도, 제고, 를, 위해, 통계, 의, 올바른, 활용, 에, 대...</td>\n",
       "      <td>[통계, 의, 신뢰, 도, 제고, 는, 통계, 의, 활용, 에, 대한, 정확, 한,...</td>\n",
       "    </tr>\n",
       "  </tbody>\n",
       "</table>\n",
       "</div>"
      ],
      "text/plain": [
       "                                          passage_morphs  \\\n",
       "39151  [통계, 의, 신뢰, 도, 제고, 를, 위해, 통계, 의, 올바른, 활용, 에, 대...   \n",
       "\n",
       "                                          summary_morphs  \n",
       "39151  [통계, 의, 신뢰, 도, 제고, 는, 통계, 의, 활용, 에, 대한, 정확, 한,...  "
      ]
     },
     "execution_count": 34,
     "metadata": {},
     "output_type": "execute_result"
    }
   ],
   "source": [
    "df[df['passage_morphs'].apply(len)==22]"
   ]
  },
  {
   "cell_type": "code",
   "execution_count": 10,
   "metadata": {},
   "outputs": [],
   "source": [
    "df = df.drop(14009)"
   ]
  },
  {
   "cell_type": "code",
   "execution_count": null,
   "metadata": {},
   "outputs": [],
   "source": [
    "df.describe()"
   ]
  },
  {
   "cell_type": "code",
   "execution_count": 36,
   "metadata": {},
   "outputs": [
    {
     "name": "stdout",
     "output_type": "stream",
     "text": [
      "텍스트의 최소 길이 : 22\n",
      "텍스트의 최대 길이 : 673\n",
      "텍스트의 평균 길이 : 222.71015050642097\n",
      "요약의 최소 길이 : 5\n",
      "요약의 최대 길이 : 190\n",
      "요약의 평균 길이 : 58.60307323383712\n"
     ]
    },
    {
     "data": {
      "image/png": "[encoded data removed]",
      "text/plain": [
       "<Figure size 640x480 with 2 Axes>"
      ]
     },
     "metadata": {},
     "output_type": "display_data"
    },
    {
     "data": {
      "image/png": "[encoded data removed]",
      "text/plain": [
       "<Figure size 640x480 with 1 Axes>"
      ]
     },
     "metadata": {},
     "output_type": "display_data"
    },
    {
     "data": {
      "image/png": "[encoded data removed]",
      "text/plain": [
       "<Figure size 640x480 with 1 Axes>"
      ]
     },
     "metadata": {},
     "output_type": "display_data"
    }
   ],
   "source": [
    "import matplotlib.pyplot as plt\n",
    "text_len = [len(s) for s in df['passage_morphs']]\n",
    "summary_len = [len(s) for s in df['summary_morphs']]\n",
    "\n",
    "print('텍스트의 최소 길이 : {}'.format(np.min(text_len)))\n",
    "print('텍스트의 최대 길이 : {}'.format(np.max(text_len)))\n",
    "print('텍스트의 평균 길이 : {}'.format(np.mean(text_len)))\n",
    "print('요약의 최소 길이 : {}'.format(np.min(summary_len)))\n",
    "print('요약의 최대 길이 : {}'.format(np.max(summary_len)))\n",
    "print('요약의 평균 길이 : {}'.format(np.mean(summary_len)))\n",
    "\n",
    "plt.subplot(1,2,1)\n",
    "plt.boxplot(summary_len)\n",
    "plt.title('Summary')\n",
    "plt.subplot(1,2,2)\n",
    "plt.boxplot(text_len)\n",
    "plt.title('Text')\n",
    "plt.tight_layout()\n",
    "plt.show()\n",
    "\n",
    "plt.title('Summary')\n",
    "plt.hist(summary_len, bins=40)\n",
    "plt.xlabel('length of samples')\n",
    "plt.ylabel('number of samples')\n",
    "plt.show()\n",
    "\n",
    "plt.title('Text')\n",
    "plt.hist(text_len, bins=40)\n",
    "plt.xlabel('length of samples')\n",
    "plt.ylabel('number of samples')\n",
    "plt.show()"
   ]
  },
  {
   "cell_type": "code",
   "execution_count": 11,
   "metadata": {},
   "outputs": [],
   "source": [
    "text_max_len = 256\n",
    "summary_max_len = 68"
   ]
  },
  {
   "cell_type": "code",
   "execution_count": null,
   "metadata": {},
   "outputs": [],
   "source": []
  },
  {
   "cell_type": "code",
   "execution_count": 12,
   "metadata": {},
   "outputs": [],
   "source": [
    "def below_threshold_len(max_len, nested_list):\n",
    "    cnt = 0\n",
    "    for s in nested_list:\n",
    "        if(len(s) <= max_len):\n",
    "            cnt = cnt + 1\n",
    "    print('전체 샘플 중 길이가 %s 이하인 샘플의 비율: %s'%(max_len, (cnt / len(nested_list))))"
   ]
  },
  {
   "cell_type": "code",
   "execution_count": 13,
   "metadata": {},
   "outputs": [
    {
     "name": "stdout",
     "output_type": "stream",
     "text": [
      "전체 샘플 중 길이가 256 이하인 샘플의 비율: 0.7530495693055249\n"
     ]
    }
   ],
   "source": [
    "below_threshold_len(text_max_len, df['passage_morphs'])"
   ]
  },
  {
   "cell_type": "code",
   "execution_count": 14,
   "metadata": {},
   "outputs": [
    {
     "name": "stdout",
     "output_type": "stream",
     "text": [
      "전체 샘플 중 길이가 68 이하인 샘플의 비율: 0.7591392421039346\n"
     ]
    }
   ],
   "source": [
    "below_threshold_len(summary_max_len, df['summary_morphs'])"
   ]
  },
  {
   "cell_type": "code",
   "execution_count": 15,
   "metadata": {},
   "outputs": [
    {
     "name": "stdout",
     "output_type": "stream",
     "text": [
      "전체 샘플수 : 111772\n"
     ]
    }
   ],
   "source": [
    "df = df[df['passage_morphs'].apply(lambda x: len(x) <= text_max_len)]\n",
    "df = df[df['summary_morphs'].apply(lambda x: len(x) <= summary_max_len)]\n",
    "print('전체 샘플수 :',(len(df)))"
   ]
  },
  {
   "cell_type": "code",
   "execution_count": 16,
   "metadata": {},
   "outputs": [
    {
     "data": {
      "text/html": [
       "<div>\n",
       "<style scoped>\n",
       "    .dataframe tbody tr th:only-of-type {\n",
       "        vertical-align: middle;\n",
       "    }\n",
       "\n",
       "    .dataframe tbody tr th {\n",
       "        vertical-align: top;\n",
       "    }\n",
       "\n",
       "    .dataframe thead th {\n",
       "        text-align: right;\n",
       "    }\n",
       "</style>\n",
       "<table border=\"1\" class=\"dataframe\">\n",
       "  <thead>\n",
       "    <tr style=\"text-align: right;\">\n",
       "      <th></th>\n",
       "      <th>passage_morphs</th>\n",
       "      <th>summary_morphs</th>\n",
       "    </tr>\n",
       "  </thead>\n",
       "  <tbody>\n",
       "    <tr>\n",
       "      <th>0</th>\n",
       "      <td>[지금, 의, 국가, 가, 직면, 하, 는, 위기, 는, 전통, 사회, 의, 그것,...</td>\n",
       "      <td>[현대, 사회, 에서, 발생, 하, 는, 다양, 하, 고, 복잡, 한, 위기, 는,...</td>\n",
       "    </tr>\n",
       "    <tr>\n",
       "      <th>1</th>\n",
       "      <td>[자연재해, 나, 불량, 수산, 식품, 파동, 등, 의, 인위, 적, 재난, 이, ...</td>\n",
       "      <td>[수산, 분야, 의, 인위, 적, 재난, 시수, 산물, 수급, 문제, 로, 생산자,...</td>\n",
       "    </tr>\n",
       "    <tr>\n",
       "      <th>2</th>\n",
       "      <td>[하지만, 이, 와, 반, 대로, MG, 파동, 이후, 기간, (, 2005, .,...</td>\n",
       "      <td>[MG, 파동, 이후, 에, 는, 양식, 송어, 의, 생산량, 의, 증가, 가, 통...</td>\n",
       "    </tr>\n",
       "    <tr>\n",
       "      <th>3</th>\n",
       "      <td>[그러나, 사회, 적, 이슈, 가, 발생, 하, 였을, 경우, 에, 전문, 적, 으...</td>\n",
       "      <td>[사회, 적, 이슈, 발생, 시, 전문, 적, 으로, 정보, 수집, 및, 분석, 을...</td>\n",
       "    </tr>\n",
       "    <tr>\n",
       "      <th>4</th>\n",
       "      <td>[네, 번, 째, 는, 공급, 감소, 로, 국내, 물량, 이, 부족, 하, 게, 되...</td>\n",
       "      <td>[일부, 경우, 에서, 의, 유통, 질서, 혼란, 을, 방지, 하, 기, 위해, 거...</td>\n",
       "    </tr>\n",
       "  </tbody>\n",
       "</table>\n",
       "</div>"
      ],
      "text/plain": [
       "                                      passage_morphs  \\\n",
       "0  [지금, 의, 국가, 가, 직면, 하, 는, 위기, 는, 전통, 사회, 의, 그것,...   \n",
       "1  [자연재해, 나, 불량, 수산, 식품, 파동, 등, 의, 인위, 적, 재난, 이, ...   \n",
       "2  [하지만, 이, 와, 반, 대로, MG, 파동, 이후, 기간, (, 2005, .,...   \n",
       "3  [그러나, 사회, 적, 이슈, 가, 발생, 하, 였을, 경우, 에, 전문, 적, 으...   \n",
       "4  [네, 번, 째, 는, 공급, 감소, 로, 국내, 물량, 이, 부족, 하, 게, 되...   \n",
       "\n",
       "                                      summary_morphs  \n",
       "0  [현대, 사회, 에서, 발생, 하, 는, 다양, 하, 고, 복잡, 한, 위기, 는,...  \n",
       "1  [수산, 분야, 의, 인위, 적, 재난, 시수, 산물, 수급, 문제, 로, 생산자,...  \n",
       "2  [MG, 파동, 이후, 에, 는, 양식, 송어, 의, 생산량, 의, 증가, 가, 통...  \n",
       "3  [사회, 적, 이슈, 발생, 시, 전문, 적, 으로, 정보, 수집, 및, 분석, 을...  \n",
       "4  [일부, 경우, 에서, 의, 유통, 질서, 혼란, 을, 방지, 하, 기, 위해, 거...  "
      ]
     },
     "execution_count": 16,
     "metadata": {},
     "output_type": "execute_result"
    }
   ],
   "source": [
    "df.head()"
   ]
  },
  {
   "cell_type": "code",
   "execution_count": 22,
   "metadata": {},
   "outputs": [
    {
     "data": {
      "text/html": [
       "<div>\n",
       "<style scoped>\n",
       "    .dataframe tbody tr th:only-of-type {\n",
       "        vertical-align: middle;\n",
       "    }\n",
       "\n",
       "    .dataframe tbody tr th {\n",
       "        vertical-align: top;\n",
       "    }\n",
       "\n",
       "    .dataframe thead th {\n",
       "        text-align: right;\n",
       "    }\n",
       "</style>\n",
       "<table border=\"1\" class=\"dataframe\">\n",
       "  <thead>\n",
       "    <tr style=\"text-align: right;\">\n",
       "      <th></th>\n",
       "      <th>passage_morphs</th>\n",
       "      <th>summary_morphs</th>\n",
       "      <th>decoder_input</th>\n",
       "      <th>decoder_target</th>\n",
       "    </tr>\n",
       "  </thead>\n",
       "  <tbody>\n",
       "    <tr>\n",
       "      <th>0</th>\n",
       "      <td>[지금, 의, 국가, 가, 직면, 하, 는, 위기, 는, 전통, 사회, 의, 그것,...</td>\n",
       "      <td>[현대, 사회, 에서, 발생, 하, 는, 다양, 하, 고, 복잡, 한, 위기, 는,...</td>\n",
       "      <td>[sostoken, 현대, 사회, 에서, 발생, 하, 는, 다양, 하, 고, 복잡,...</td>\n",
       "      <td>[현대, 사회, 에서, 발생, 하, 는, 다양, 하, 고, 복잡, 한, 위기, 는,...</td>\n",
       "    </tr>\n",
       "    <tr>\n",
       "      <th>1</th>\n",
       "      <td>[자연재해, 나, 불량, 수산, 식품, 파동, 등, 의, 인위, 적, 재난, 이, ...</td>\n",
       "      <td>[수산, 분야, 의, 인위, 적, 재난, 시수, 산물, 수급, 문제, 로, 생산자,...</td>\n",
       "      <td>[sostoken, 수산, 분야, 의, 인위, 적, 재난, 시수, 산물, 수급, 문...</td>\n",
       "      <td>[수산, 분야, 의, 인위, 적, 재난, 시수, 산물, 수급, 문제, 로, 생산자,...</td>\n",
       "    </tr>\n",
       "    <tr>\n",
       "      <th>2</th>\n",
       "      <td>[하지만, 이, 와, 반, 대로, MG, 파동, 이후, 기간, (, 2005, .,...</td>\n",
       "      <td>[MG, 파동, 이후, 에, 는, 양식, 송어, 의, 생산량, 의, 증가, 가, 통...</td>\n",
       "      <td>[sostoken, MG, 파동, 이후, 에, 는, 양식, 송어, 의, 생산량, 의...</td>\n",
       "      <td>[MG, 파동, 이후, 에, 는, 양식, 송어, 의, 생산량, 의, 증가, 가, 통...</td>\n",
       "    </tr>\n",
       "    <tr>\n",
       "      <th>3</th>\n",
       "      <td>[그러나, 사회, 적, 이슈, 가, 발생, 하, 였을, 경우, 에, 전문, 적, 으...</td>\n",
       "      <td>[사회, 적, 이슈, 발생, 시, 전문, 적, 으로, 정보, 수집, 및, 분석, 을...</td>\n",
       "      <td>[sostoken, 사회, 적, 이슈, 발생, 시, 전문, 적, 으로, 정보, 수집...</td>\n",
       "      <td>[사회, 적, 이슈, 발생, 시, 전문, 적, 으로, 정보, 수집, 및, 분석, 을...</td>\n",
       "    </tr>\n",
       "    <tr>\n",
       "      <th>4</th>\n",
       "      <td>[네, 번, 째, 는, 공급, 감소, 로, 국내, 물량, 이, 부족, 하, 게, 되...</td>\n",
       "      <td>[일부, 경우, 에서, 의, 유통, 질서, 혼란, 을, 방지, 하, 기, 위해, 거...</td>\n",
       "      <td>[sostoken, 일부, 경우, 에서, 의, 유통, 질서, 혼란, 을, 방지, 하...</td>\n",
       "      <td>[일부, 경우, 에서, 의, 유통, 질서, 혼란, 을, 방지, 하, 기, 위해, 거...</td>\n",
       "    </tr>\n",
       "  </tbody>\n",
       "</table>\n",
       "</div>"
      ],
      "text/plain": [
       "                                      passage_morphs  \\\n",
       "0  [지금, 의, 국가, 가, 직면, 하, 는, 위기, 는, 전통, 사회, 의, 그것,...   \n",
       "1  [자연재해, 나, 불량, 수산, 식품, 파동, 등, 의, 인위, 적, 재난, 이, ...   \n",
       "2  [하지만, 이, 와, 반, 대로, MG, 파동, 이후, 기간, (, 2005, .,...   \n",
       "3  [그러나, 사회, 적, 이슈, 가, 발생, 하, 였을, 경우, 에, 전문, 적, 으...   \n",
       "4  [네, 번, 째, 는, 공급, 감소, 로, 국내, 물량, 이, 부족, 하, 게, 되...   \n",
       "\n",
       "                                      summary_morphs  \\\n",
       "0  [현대, 사회, 에서, 발생, 하, 는, 다양, 하, 고, 복잡, 한, 위기, 는,...   \n",
       "1  [수산, 분야, 의, 인위, 적, 재난, 시수, 산물, 수급, 문제, 로, 생산자,...   \n",
       "2  [MG, 파동, 이후, 에, 는, 양식, 송어, 의, 생산량, 의, 증가, 가, 통...   \n",
       "3  [사회, 적, 이슈, 발생, 시, 전문, 적, 으로, 정보, 수집, 및, 분석, 을...   \n",
       "4  [일부, 경우, 에서, 의, 유통, 질서, 혼란, 을, 방지, 하, 기, 위해, 거...   \n",
       "\n",
       "                                       decoder_input  \\\n",
       "0  [sostoken, 현대, 사회, 에서, 발생, 하, 는, 다양, 하, 고, 복잡,...   \n",
       "1  [sostoken, 수산, 분야, 의, 인위, 적, 재난, 시수, 산물, 수급, 문...   \n",
       "2  [sostoken, MG, 파동, 이후, 에, 는, 양식, 송어, 의, 생산량, 의...   \n",
       "3  [sostoken, 사회, 적, 이슈, 발생, 시, 전문, 적, 으로, 정보, 수집...   \n",
       "4  [sostoken, 일부, 경우, 에서, 의, 유통, 질서, 혼란, 을, 방지, 하...   \n",
       "\n",
       "                                      decoder_target  \n",
       "0  [현대, 사회, 에서, 발생, 하, 는, 다양, 하, 고, 복잡, 한, 위기, 는,...  \n",
       "1  [수산, 분야, 의, 인위, 적, 재난, 시수, 산물, 수급, 문제, 로, 생산자,...  \n",
       "2  [MG, 파동, 이후, 에, 는, 양식, 송어, 의, 생산량, 의, 증가, 가, 통...  \n",
       "3  [사회, 적, 이슈, 발생, 시, 전문, 적, 으로, 정보, 수집, 및, 분석, 을...  \n",
       "4  [일부, 경우, 에서, 의, 유통, 질서, 혼란, 을, 방지, 하, 기, 위해, 거...  "
      ]
     },
     "execution_count": 22,
     "metadata": {},
     "output_type": "execute_result"
    }
   ],
   "source": [
    "# 요약 데이터에는 시작 토큰과 종료 토큰을 추가한다.\n",
    "df['decoder_input'] = df['summary_morphs'].apply(lambda x : ['sostoken'] + x)\n",
    "df['decoder_target'] = df['summary_morphs'].apply(lambda x : x + ['eostoken'])\n",
    "df.head()"
   ]
  },
  {
   "cell_type": "code",
   "execution_count": 18,
   "metadata": {},
   "outputs": [
    {
     "name": "stdout",
     "output_type": "stream",
     "text": [
      "['sostoken', '지금', '의', '국가', '가', '직면', '하', '는', '위기', '는', '전통', '사회', '의', '그것', '과', '위기', '의', '규모', '뿐', '만', '아니', '라', '종류', '와', '성질', '면', '에서', '사뭇', '다르', '다고', '할', '수', '있', '다', '.', '즉', '현대', '사회', '에서', '는', '매우', '다양', '하', '고', '광범위', '하', '게', '위기', '가', '발생', '할', '뿐', '만', '아니', '라', '지', '구', '온난', '화', '에', '따른', '각종', '자연재해', '로부터', '인위', '적', '재난', '인', '사회', '적', '이슈', '로', '인한', '위기', '에', '이르', '기', '까지', '복잡', '한', '양상', '을', '보이', '고', '있', '다', '.', '따라서', '위기', '의', '영향', '은', '한', '산업', '뿐', '만', '아니', '라', '국가', '의', '재난', '으로', '이어지', '는', '경우', '가', '많', '다', '.', '따라서', '국가', '는', '이러', '한', '위기', '상황', '이', '발생', '하', '였을', '경우', '에', '그', '징후', '를', '빨리', '파악', '하', '고', '대응', '하', '지', '않', '으면', '안', '되', '는데', ',', '국민', '의', '생명', '과', '재산', '을', '보호', '하', '는', '것', '이', '바로', '국가', '의', '가장', '기본', '적', '인', '의무', '이', '기', '때문', '이', '다', '.']\n"
     ]
    }
   ],
   "source": [
    "print(['sostoken'] + df['passage_morphs'][0])"
   ]
  },
  {
   "cell_type": "code",
   "execution_count": 20,
   "metadata": {},
   "outputs": [
    {
     "name": "stdout",
     "output_type": "stream",
     "text": [
      "['지금', '의', '국가', '가', '직면', '하', '는', '위기', '는', '전통', '사회', '의', '그것', '과', '위기', '의', '규모', '뿐', '만', '아니', '라', '종류', '와', '성질', '면', '에서', '사뭇', '다르', '다고', '할', '수', '있', '다', '.', '즉', '현대', '사회', '에서', '는', '매우', '다양', '하', '고', '광범위', '하', '게', '위기', '가', '발생', '할', '뿐', '만', '아니', '라', '지', '구', '온난', '화', '에', '따른', '각종', '자연재해', '로부터', '인위', '적', '재난', '인', '사회', '적', '이슈', '로', '인한', '위기', '에', '이르', '기', '까지', '복잡', '한', '양상', '을', '보이', '고', '있', '다', '.', '따라서', '위기', '의', '영향', '은', '한', '산업', '뿐', '만', '아니', '라', '국가', '의', '재난', '으로', '이어지', '는', '경우', '가', '많', '다', '.', '따라서', '국가', '는', '이러', '한', '위기', '상황', '이', '발생', '하', '였을', '경우', '에', '그', '징후', '를', '빨리', '파악', '하', '고', '대응', '하', '지', '않', '으면', '안', '되', '는데', ',', '국민', '의', '생명', '과', '재산', '을', '보호', '하', '는', '것', '이', '바로', '국가', '의', '가장', '기본', '적', '인', '의무', '이', '기', '때문', '이', '다', '.', 'eostoken']\n"
     ]
    }
   ],
   "source": [
    "print(df['passage_morphs'][0] + ['eostoken'])"
   ]
  },
  {
   "cell_type": "code",
   "execution_count": 35,
   "metadata": {},
   "outputs": [],
   "source": [
    "encoder_input = np.array(df['passage_morphs']) # 원문 데이터\n",
    "decoder_input = np.array(df['decoder_input'])  # 요약문 데이터 앞부분에 시작 토큰 추가한 데이터\n",
    "decoder_target = np.array(df['decoder_target']) # 요약문 데이터 끝부분에 종료 토큰 추가한 데이터"
   ]
  },
  {
   "cell_type": "code",
   "execution_count": 27,
   "metadata": {},
   "outputs": [],
   "source": [
    "# encoder_input = df['passage_morphs']\n",
    "# decoder_input = df['decoder_input']\n",
    "# decoder_target = df['decoder_target']"
   ]
  },
  {
   "cell_type": "code",
   "execution_count": 32,
   "metadata": {},
   "outputs": [
    {
     "name": "stdout",
     "output_type": "stream",
     "text": [
      "[  3913 111412     48 ...  90023    678  18484]\n"
     ]
    }
   ],
   "source": [
    "indices = np.arange(encoder_input.shape[0])\n",
    "np.random.shuffle(indices)\n",
    "print(indices)"
   ]
  },
  {
   "cell_type": "code",
   "execution_count": 36,
   "metadata": {},
   "outputs": [],
   "source": [
    "encoder_input = encoder_input[indices]\n",
    "decoder_input = decoder_input[indices]\n",
    "decoder_target = decoder_target[indices]"
   ]
  },
  {
   "cell_type": "code",
   "execution_count": 37,
   "metadata": {},
   "outputs": [
    {
     "name": "stdout",
     "output_type": "stream",
     "text": [
      "테스트 데이터의 수 : 22354\n"
     ]
    }
   ],
   "source": [
    "n_of_val = int(len(encoder_input)*0.2)\n",
    "print('테스트 데이터의 수 :',n_of_val)"
   ]
  },
  {
   "cell_type": "code",
   "execution_count": 39,
   "metadata": {},
   "outputs": [],
   "source": [
    "encoder_input_train = encoder_input[:-n_of_val]\n",
    "decoder_input_train = decoder_input[:-n_of_val]\n",
    "decoder_target_train = decoder_target[:-n_of_val]\n",
    "\n",
    "encoder_input_test = encoder_input[-n_of_val:]\n",
    "decoder_input_test = decoder_input[-n_of_val:]\n",
    "decoder_target_test = decoder_target[-n_of_val:]"
   ]
  },
  {
   "cell_type": "code",
   "execution_count": 40,
   "metadata": {},
   "outputs": [
    {
     "name": "stdout",
     "output_type": "stream",
     "text": [
      "훈련 데이터의 개수 : 89418\n",
      "훈련 레이블의 개수 : 89418\n",
      "테스트 데이터의 개수 : 22354\n",
      "테스트 레이블의 개수 : 22354\n"
     ]
    }
   ],
   "source": [
    "print('훈련 데이터의 개수 :', len(encoder_input_train))\n",
    "print('훈련 레이블의 개수 :',len(decoder_input_train))\n",
    "print('테스트 데이터의 개수 :',len(encoder_input_test))\n",
    "print('테스트 레이블의 개수 :',len(decoder_input_test))"
   ]
  },
  {
   "cell_type": "code",
   "execution_count": 41,
   "metadata": {},
   "outputs": [],
   "source": [
    "from tensorflow.keras.preprocessing.text import Tokenizer \n",
    "from tensorflow.keras.preprocessing.sequence import pad_sequences"
   ]
  },
  {
   "cell_type": "code",
   "execution_count": 42,
   "metadata": {},
   "outputs": [],
   "source": [
    "src_tokenizer = Tokenizer()\n",
    "src_tokenizer.fit_on_texts(encoder_input_train)"
   ]
  },
  {
   "cell_type": "code",
   "execution_count": 53,
   "metadata": {},
   "outputs": [
    {
     "name": "stdout",
     "output_type": "stream",
     "text": [
      "단어 집합(vocabulary)의 크기 : 120648\n",
      "등장 빈도가 4번 이하인 희귀 단어의 수: 81106\n",
      "단어 집합에서 희귀 단어를 제외시킬 경우의 단어 집합의 크기 39542\n",
      "단어 집합에서 희귀 단어의 비율: 67.22531662356607\n",
      "전체 등장 빈도에서 희귀 단어 등장 빈도 비율: 0.8070199861738628\n"
     ]
    }
   ],
   "source": [
    "threshold = 5\n",
    "total_cnt = len(src_tokenizer.word_index) # 단어의 수\n",
    "rare_cnt = 0 # 등장 빈도수가 threshold보다 작은 단어의 개수를 카운트\n",
    "total_freq = 0 # 훈련 데이터의 전체 단어 빈도수 총 합\n",
    "rare_freq = 0 # 등장 빈도수가 threshold보다 작은 단어의 등장 빈도수의 총 합\n",
    "\n",
    "# 단어와 빈도수의 쌍(pair)을 key와 value로 받는다.\n",
    "for key, value in src_tokenizer.word_counts.items():\n",
    "    total_freq = total_freq + value\n",
    "\n",
    "    # 단어의 등장 빈도수가 threshold보다 작으면\n",
    "    if(value < threshold):\n",
    "        rare_cnt = rare_cnt + 1\n",
    "        rare_freq = rare_freq + value\n",
    "\n",
    "print('단어 집합(vocabulary)의 크기 :',total_cnt)\n",
    "print('등장 빈도가 %s번 이하인 희귀 단어의 수: %s'%(threshold - 1, rare_cnt))\n",
    "print('단어 집합에서 희귀 단어를 제외시킬 경우의 단어 집합의 크기 %s'%(total_cnt - rare_cnt))\n",
    "print(\"단어 집합에서 희귀 단어의 비율:\", (rare_cnt / total_cnt)*100)\n",
    "print(\"전체 등장 빈도에서 희귀 단어 등장 빈도 비율:\", (rare_freq / total_freq)*100)"
   ]
  },
  {
   "cell_type": "code",
   "execution_count": 54,
   "metadata": {},
   "outputs": [
    {
     "data": {
      "text/plain": [
       "8252"
      ]
     },
     "execution_count": 54,
     "metadata": {},
     "output_type": "execute_result"
    }
   ],
   "source": [
    "32031-23779"
   ]
  },
  {
   "cell_type": "code",
   "execution_count": 55,
   "metadata": {},
   "outputs": [],
   "source": [
    "src_vocab = 39500\n",
    "src_tokenizer = Tokenizer(num_words = src_vocab) \n",
    "src_tokenizer.fit_on_texts(encoder_input_train)\n",
    "\n",
    "# 텍스트 시퀀스를 정수 시퀀스로 변환\n",
    "encoder_input_train = src_tokenizer.texts_to_sequences(encoder_input_train) \n",
    "encoder_input_test = src_tokenizer.texts_to_sequences(encoder_input_test)"
   ]
  },
  {
   "cell_type": "code",
   "execution_count": 56,
   "metadata": {},
   "outputs": [
    {
     "name": "stdout",
     "output_type": "stream",
     "text": [
      "[[674, 18, 1329, 16, 182, 599, 1739, 20, 334, 2, 32, 4368, 318, 660, 158, 1, 6386, 6, 2234, 2, 60, 381, 539, 70, 89, 511, 427, 29, 119, 9, 5, 4368, 318, 660, 158, 1, 1428, 13, 370, 3189, 11, 373, 599, 2, 37, 51, 2919, 12, 1034, 5638, 11, 410, 24, 10, 92, 105, 4, 9, 5, 2589, 13, 1234, 500, 117, 1791, 67, 18, 805, 44, 371, 29, 309, 7, 274, 25, 1, 240, 8, 420, 16, 82, 12, 318, 71, 205, 1026, 25, 4, 165, 3, 575, 17, 380, 351, 21, 4, 9, 5, 219, 7, 1108, 1, 205, 1026, 8, 39, 6022, 29, 753, 294, 7, 228, 898, 1, 53, 82, 12, 1051, 172, 53, 8, 2742, 1494, 1, 1412, 8, 115, 52, 95, 17, 2856, 24, 10, 9, 5, 4368, 318, 660, 158, 1, 46, 7, 1494, 111, 207, 84, 503, 166, 399, 112, 8, 39, 2720, 1643, 1, 753, 29, 1791, 580, 1160, 1249, 6, 4050, 2, 160, 10, 40, 6023, 16, 337, 6, 5082, 42, 5], [490, 11378, 300, 7764, 8, 8288, 15, 2901, 78, 154, 1170, 4273, 1, 27633, 6, 1586, 297, 78, 154, 562, 3, 169, 8, 3522, 3, 3383, 35451, 27634, 9, 5, 16589, 6899, 8, 1227, 1467, 14, 10, 3, 14956, 13, 35452, 11, 45, 196, 11203, 14957, 4273, 47, 2655, 1329, 2, 14, 10, 41, 9, 5, 196, 79, 3, 169, 6, 45, 1345, 13456, 263, 555, 47, 26, 890, 59, 121, 2, 14, 10, 160, 7, 846, 2450, 34, 16589, 11, 2934, 2, 133, 716, 4679, 11, 14956, 8, 15679, 3042, 41, 126, 42, 5, 4273, 4, 2451, 16, 56, 13, 6858, 4, 910, 109, 7, 709, 12, 15, 10210, 1406, 8, 442, 40, 954, 377, 28, 45, 11203, 47, 4, 137, 19469, 11, 470, 9, 7394, 133, 2531, 35452, 1, 2344, 4, 196, 28, 21, 488, 384, 6, 2769, 2, 14, 10, 3, 3043, 4, 9, 5, 1620, 2699, 18, 9361, 97, 6, 1620, 709, 8, 3227, 2, 831, 45, 32215, 47, 721, 1, 10904, 17, 127, 80, 452, 162, 116, 3850, 382, 26, 3, 1027, 6, 107, 3, 21, 119, 171, 78, 9, 5, 283, 14958, 500, 29, 1541, 500, 3, 35452, 11, 196, 1, 14957, 4273, 15, 3392, 2, 3, 21, 8, 35453, 36, 3816, 2, 14, 10, 109, 196, 79, 3, 4, 25, 1, 2425, 11, 25, 13, 2046, 30, 51, 14, 10, 9, 5], [87, 16, 319, 18, 1221, 165, 195, 315, 6, 207, 2, 43, 160, 7, 445, 3059, 81, 4, 211, 12, 15, 195, 2, 31, 220, 3, 1504, 3059, 81, 1, 121, 7, 1326, 974, 38, 1585, 49, 7, 2142, 263, 22, 460, 23, 63, 7, 570, 173, 342, 4, 1057, 12, 15, 1544, 2, 61, 4, 11, 220, 3, 103, 12, 28, 1804, 4, 10, 200, 2, 518, 4, 11, 68, 1737, 49, 1, 55, 35, 6, 207, 2, 43, 9, 5, 365, 15, 333, 1012, 59, 37, 14, 10, 3, 3059, 1426, 19470, 11, 363, 2, 31, 68, 10771, 4223, 20, 2789, 121, 1, 179, 12, 28, 395, 6, 104, 1036, 121, 1754, 8, 39, 79, 121, 243, 1, 279, 20, 4, 29, 323, 44, 2064, 88, 1, 839, 38, 1183, 6, 68, 79, 121, 387, 1, 279, 1, 55, 35, 6, 207, 2, 43, 9, 5]]\n"
     ]
    }
   ],
   "source": [
    "print(encoder_input_train[:3])"
   ]
  },
  {
   "cell_type": "code",
   "execution_count": 57,
   "metadata": {},
   "outputs": [],
   "source": [
    "tar_tokenizer = Tokenizer()\n",
    "tar_tokenizer.fit_on_texts(decoder_input_train)"
   ]
  },
  {
   "cell_type": "code",
   "execution_count": 58,
   "metadata": {},
   "outputs": [
    {
     "name": "stdout",
     "output_type": "stream",
     "text": [
      "단어 집합(vocabulary)의 크기 : 53881\n",
      "등장 빈도가 4번 이하인 희귀 단어의 수: 36652\n",
      "단어 집합에서 희귀 단어를 제외시킬 경우의 단어 집합의 크기 17229\n",
      "단어 집합에서 희귀 단어의 비율: 68.02397876802584\n",
      "전체 등장 빈도에서 희귀 단어 등장 빈도 비율: 1.3444637482368733\n"
     ]
    }
   ],
   "source": [
    "threshold = 5\n",
    "total_cnt = len(tar_tokenizer.word_index) # 단어의 수\n",
    "rare_cnt = 0 # 등장 빈도수가 threshold보다 작은 단어의 개수를 카운트\n",
    "total_freq = 0 # 훈련 데이터의 전체 단어 빈도수 총 합\n",
    "rare_freq = 0 # 등장 빈도수가 threshold보다 작은 단어의 등장 빈도수의 총 합\n",
    "\n",
    "# 단어와 빈도수의 쌍(pair)을 key와 value로 받는다.\n",
    "for key, value in tar_tokenizer.word_counts.items():\n",
    "    total_freq = total_freq + value\n",
    "\n",
    "    # 단어의 등장 빈도수가 threshold보다 작으면\n",
    "    if(value < threshold):\n",
    "        rare_cnt = rare_cnt + 1\n",
    "        rare_freq = rare_freq + value\n",
    "\n",
    "print('단어 집합(vocabulary)의 크기 :',total_cnt)\n",
    "print('등장 빈도가 %s번 이하인 희귀 단어의 수: %s'%(threshold - 1, rare_cnt))\n",
    "print('단어 집합에서 희귀 단어를 제외시킬 경우의 단어 집합의 크기 %s'%(total_cnt - rare_cnt))\n",
    "print(\"단어 집합에서 희귀 단어의 비율:\", (rare_cnt / total_cnt)*100)\n",
    "print(\"전체 등장 빈도에서 희귀 단어 등장 빈도 비율:\", (rare_freq / total_freq)*100)"
   ]
  },
  {
   "cell_type": "code",
   "execution_count": 59,
   "metadata": {},
   "outputs": [],
   "source": [
    "tar_vocab = 17200\n",
    "tar_tokenizer = Tokenizer(num_words = tar_vocab) \n",
    "tar_tokenizer.fit_on_texts(decoder_input_train)\n",
    "tar_tokenizer.fit_on_texts(decoder_target_train)"
   ]
  },
  {
   "cell_type": "code",
   "execution_count": 60,
   "metadata": {},
   "outputs": [],
   "source": [
    "# 텍스트 시퀀스를 정수 시퀀스로 변환\n",
    "decoder_input_train = tar_tokenizer.texts_to_sequences(decoder_input_train)     # \n",
    "decoder_target_train = tar_tokenizer.texts_to_sequences(decoder_target_train)\n",
    "decoder_input_test = tar_tokenizer.texts_to_sequences(decoder_input_test)\n",
    "decoder_target_test = tar_tokenizer.texts_to_sequences(decoder_target_test)"
   ]
  },
  {
   "cell_type": "code",
   "execution_count": 64,
   "metadata": {},
   "outputs": [
    {
     "name": "stdout",
     "output_type": "stream",
     "text": [
      "[16, 3886, 251, 972, 11548, 11, 308, 2975, 10, 438, 602, 6, 36, 58, 3118, 12, 841, 4615, 10, 369, 28, 13, 80, 9, 185, 8, 426, 20, 72, 12, 251, 67, 170, 909, 2, 431, 15, 13, 7, 1, 107, 8, 1776, 2, 1298, 8, 111, 93, 15, 2913, 1]\n"
     ]
    }
   ],
   "source": [
    "print(decoder_input_train[0])"
   ]
  },
  {
   "cell_type": "code",
   "execution_count": 63,
   "metadata": {},
   "outputs": [
    {
     "name": "stdout",
     "output_type": "stream",
     "text": [
      "[[3886, 251, 972, 11548, 11, 308, 2975, 10, 438, 602, 6, 36, 58, 3118, 12, 841, 4615, 10, 369, 28, 13, 80, 9, 185, 8, 426, 20, 72, 12, 251, 67, 170, 909, 2, 431, 15, 13, 7, 1, 107, 8, 1776, 2, 1298, 8, 111, 93, 15, 2913, 1, 17]]\n"
     ]
    }
   ],
   "source": [
    "print(decoder_target_train[:1])"
   ]
  },
  {
   "cell_type": "code",
   "execution_count": 65,
   "metadata": {},
   "outputs": [
    {
     "name": "stdout",
     "output_type": "stream",
     "text": [
      "요약문에 시작 토큰인 sostoken 추가한 데이터 정수 시퀀스로 변경한 거 : [16, 3886, 251, 972, 11548, 11, 308, 2975, 10, 438, 602, 6, 36, 58, 3118, 12, 841, 4615, 10, 369, 28, 13, 80, 9, 185, 8, 426, 20, 72, 12, 251, 67, 170, 909, 2, 431, 15, 13, 7, 1, 107, 8, 1776, 2, 1298, 8, 111, 93, 15, 2913, 1]\n",
      "요약문에 종료 토큰인 eostoken 추가한 데이터 정수 시퀀스로 변경한 거 : [3886, 251, 972, 11548, 11, 308, 2975, 10, 438, 602, 6, 36, 58, 3118, 12, 841, 4615, 10, 369, 28, 13, 80, 9, 185, 8, 426, 20, 72, 12, 251, 67, 170, 909, 2, 431, 15, 13, 7, 1, 107, 8, 1776, 2, 1298, 8, 111, 93, 15, 2913, 1, 17]\n",
      "\n",
      "요약문에 시작 토큰인 sostoken 추가한 데이터 정수 시퀀스로 변경한 거 : [16, 147, 21, 5, 1491, 2858, 21, 145, 4, 1491, 699, 8, 3144, 6, 817, 632, 10, 97, 109, 381, 143, 179, 14, 13, 7, 1, 230, 699, 11549, 26, 1324, 440, 5, 10, 147, 2, 8852, 4096, 18, 3496, 6, 5, 27, 8, 3079, 6, 14, 13, 80, 147, 64, 5, 3, 10, 25, 11, 2006, 30, 58, 14, 13, 7, 1]\n",
      "요약문에 종료 토큰인 eostoken 추가한 데이터 정수 시퀀스로 변경한 거 : [147, 21, 5, 1491, 2858, 21, 145, 4, 1491, 699, 8, 3144, 6, 817, 632, 10, 97, 109, 381, 143, 179, 14, 13, 7, 1, 230, 699, 11549, 26, 1324, 440, 5, 10, 147, 2, 8852, 4096, 18, 3496, 6, 5, 27, 8, 3079, 6, 14, 13, 80, 147, 64, 5, 3, 10, 25, 11, 2006, 30, 58, 14, 13, 7, 1, 17]\n",
      "\n",
      "요약문에 시작 토큰인 sostoken 추가한 데이터 정수 시퀀스로 변경한 거 : [16, 2957, 74, 2, 204, 137, 4, 53, 74, 91, 9, 1087, 848, 109, 1348, 47, 9, 1919, 200, 55, 9, 555, 150, 4, 70, 13148, 15, 45, 6, 7, 1, 898, 91, 2141, 8, 38, 91, 309, 228, 30, 45, 6, 7, 1]\n",
      "요약문에 종료 토큰인 eostoken 추가한 데이터 정수 시퀀스로 변경한 거 : [2957, 74, 2, 204, 137, 4, 53, 74, 91, 9, 1087, 848, 109, 1348, 47, 9, 1919, 200, 55, 9, 555, 150, 4, 70, 13148, 15, 45, 6, 7, 1, 898, 91, 2141, 8, 38, 91, 309, 228, 30, 45, 6, 7, 1, 17]\n",
      "\n",
      "요약문에 시작 토큰인 sostoken 추가한 데이터 정수 시퀀스로 변경한 거 : [16, 152, 1732, 109, 300, 14187, 168, 346, 8, 147, 254, 132, 11, 4739, 10, 3, 41, 2976, 27, 18, 407, 1, 396, 5, 3396, 10, 3, 41, 15, 14, 9, 630, 2211, 15, 339, 4, 306, 6, 14, 9, 636, 393, 290, 3, 611, 22, 33, 107, 3, 7, 1, 2299, 138, 11, 103, 3, 395, 12, 145, 27, 18, 407, 1]\n",
      "요약문에 종료 토큰인 eostoken 추가한 데이터 정수 시퀀스로 변경한 거 : [152, 1732, 109, 300, 14187, 168, 346, 8, 147, 254, 132, 11, 4739, 10, 3, 41, 2976, 27, 18, 407, 1, 396, 5, 3396, 10, 3, 41, 15, 14, 9, 630, 2211, 15, 339, 4, 306, 6, 14, 9, 636, 393, 290, 3, 611, 22, 33, 107, 3, 7, 1, 2299, 138, 11, 103, 3, 395, 12, 145, 27, 18, 407, 1, 17]\n",
      "\n",
      "요약문에 시작 토큰인 sostoken 추가한 데이터 정수 시퀀스로 변경한 거 : [16, 6715, 1303, 3, 9166, 6567, 42, 9, 8, 62, 2, 1092, 47, 10, 70, 326, 49, 1148, 3, 2894, 7, 1, 3616, 11, 3257, 23, 1549, 2, 334, 3, 331, 337, 22, 225, 7818, 2103, 6568, 11, 326, 49, 1148, 2, 598, 8, 383, 12, 3, 37, 7, 1]\n",
      "요약문에 종료 토큰인 eostoken 추가한 데이터 정수 시퀀스로 변경한 거 : [6715, 1303, 3, 9166, 6567, 42, 9, 8, 62, 2, 1092, 47, 10, 70, 326, 49, 1148, 3, 2894, 7, 1, 3616, 11, 3257, 23, 1549, 2, 334, 3, 331, 337, 22, 225, 7818, 2103, 6568, 11, 326, 49, 1148, 2, 598, 8, 383, 12, 3, 37, 7, 1, 17]\n",
      "\n"
     ]
    }
   ],
   "source": [
    "for i in range(5):\n",
    "    print('요약문에 시작 토큰인 sostoken 추가한 데이터 정수 시퀀스로 변경한 거 :', decoder_input_train[i])\n",
    "    print('요약문에 종료 토큰인 eostoken 추가한 데이터 정수 시퀀스로 변경한 거 :', decoder_target_train[i])\n",
    "    print()\n",
    "    "
   ]
  },
  {
   "cell_type": "code",
   "execution_count": 66,
   "metadata": {},
   "outputs": [],
   "source": [
    "drop_train = [index for index, sentence in enumerate(decoder_input_train) if len(sentence) == 1]\n",
    "drop_test = [index for index, sentence in enumerate(decoder_input_test) if len(sentence) == 1]"
   ]
  },
  {
   "cell_type": "code",
   "execution_count": 67,
   "metadata": {},
   "outputs": [
    {
     "name": "stdout",
     "output_type": "stream",
     "text": [
      "삭제할 훈련 데이터의 개수 : 0\n",
      "삭제할 테스트 데이터의 개수 : 0\n"
     ]
    }
   ],
   "source": [
    "print('삭제할 훈련 데이터의 개수 :',len(drop_train))\n",
    "print('삭제할 테스트 데이터의 개수 :',len(drop_test))"
   ]
  },
  {
   "cell_type": "code",
   "execution_count": 68,
   "metadata": {},
   "outputs": [
    {
     "name": "stdout",
     "output_type": "stream",
     "text": [
      "훈련 데이터의 개수 : 89418\n",
      "훈련 레이블의 개수 : 89418\n",
      "테스트 데이터의 개수 : 22354\n",
      "테스트 레이블의 개수 : 22354\n"
     ]
    },
    {
     "name": "stderr",
     "output_type": "stream",
     "text": [
      "c:\\Users\\User\\anaconda3\\envs\\cuda\\lib\\site-packages\\numpy\\lib\\function_base.py:5071: VisibleDeprecationWarning: Creating an ndarray from ragged nested sequences (which is a list-or-tuple of lists-or-tuples-or ndarrays with different lengths or shapes) is deprecated. If you meant to do this, you must specify 'dtype=object' when creating the ndarray.\n",
      "  arr = asarray(arr)\n"
     ]
    }
   ],
   "source": [
    "encoder_input_train = np.delete(encoder_input_train, drop_train, axis=0)\n",
    "decoder_input_train = np.delete(decoder_input_train, drop_train, axis=0)\n",
    "decoder_target_train = np.delete(decoder_target_train, drop_train, axis=0)\n",
    "\n",
    "encoder_input_test = np.delete(encoder_input_test, drop_test, axis=0)\n",
    "decoder_input_test = np.delete(decoder_input_test, drop_test, axis=0)\n",
    "decoder_target_test = np.delete(decoder_target_test, drop_test, axis=0)\n",
    "\n",
    "print('훈련 데이터의 개수 :', len(encoder_input_train))\n",
    "print('훈련 레이블의 개수 :',len(decoder_input_train))\n",
    "print('테스트 데이터의 개수 :',len(encoder_input_test))\n",
    "print('테스트 레이블의 개수 :',len(decoder_input_test))"
   ]
  },
  {
   "cell_type": "code",
   "execution_count": 87,
   "metadata": {},
   "outputs": [],
   "source": [
    "# 원문 데이터\n",
    "encoder_input_train = pad_sequences(encoder_input_train, maxlen = text_max_len, padding='post')\n",
    "encoder_input_test = pad_sequences(encoder_input_test, maxlen = text_max_len, padding='post')\n",
    "\n",
    "# sostoken 데이터 (시작 토큰)\n",
    "decoder_input_train = pad_sequences(decoder_input_train, maxlen = summary_max_len, padding='post')\n",
    "decoder_target_train = pad_sequences(decoder_target_train, maxlen = summary_max_len, padding='post')\n",
    "\n",
    "# eostoken 데이터 (종료 토큰)\n",
    "decoder_input_test = pad_sequences(decoder_input_test, maxlen = summary_max_len, padding='post')\n",
    "decoder_target_test = pad_sequences(decoder_target_test, maxlen = summary_max_len, padding='post')\n"
   ]
  },
  {
   "cell_type": "code",
   "execution_count": 69,
   "metadata": {},
   "outputs": [],
   "source": [
    "from tensorflow.keras.layers import Input, LSTM, Embedding, Dense, Concatenate\n",
    "from tensorflow.keras.models import Model\n",
    "from tensorflow.keras.callbacks import EarlyStopping, ModelCheckpoint"
   ]
  },
  {
   "cell_type": "code",
   "execution_count": 74,
   "metadata": {},
   "outputs": [
    {
     "name": "stdout",
     "output_type": "stream",
     "text": [
      "WARNING:tensorflow:Layer lstm_7 will not use cuDNN kernels since it doesn't meet the criteria. It will use a generic GPU kernel as fallback when running on GPU.\n",
      "WARNING:tensorflow:Layer lstm_8 will not use cuDNN kernels since it doesn't meet the criteria. It will use a generic GPU kernel as fallback when running on GPU.\n",
      "WARNING:tensorflow:Layer lstm_9 will not use cuDNN kernels since it doesn't meet the criteria. It will use a generic GPU kernel as fallback when running on GPU.\n"
     ]
    }
   ],
   "source": [
    "embedding_dim = 128\n",
    "hidden_size = 256\n",
    "\n",
    "# 인코더\n",
    "encoder_inputs = Input(shape=(text_max_len,))\n",
    "\n",
    "# 인코더의 임베딩 층\n",
    "enc_emb = Embedding(src_vocab, embedding_dim)(encoder_inputs)\n",
    "\n",
    "# 인코더의 LSTM 1\n",
    "encoder_lstm1 = LSTM(hidden_size, return_sequences=True, return_state=True ,dropout = 0.4, recurrent_dropout = 0.4, activation='tanh', recurrent_activation='sigmoid')\n",
    "encoder_output1, state_h1, state_c1 = encoder_lstm1(enc_emb)\n",
    "\n",
    "# 인코더의 LSTM 2\n",
    "encoder_lstm2 = LSTM(hidden_size, return_sequences=True, return_state=True, dropout=0.4, recurrent_dropout=0.4, activation='tanh', recurrent_activation='sigmoid')\n",
    "encoder_output2, state_h2, state_c2 = encoder_lstm2(encoder_output1)\n",
    "\n",
    "# 인코더의 LSTM 3\n",
    "encoder_lstm3 = LSTM(hidden_size, return_state=True, return_sequences=True, dropout=0.4, recurrent_dropout=0.4, activation='tanh', recurrent_activation='sigmoid')\n",
    "encoder_outputs, state_h, state_c = encoder_lstm3(encoder_output2)\n"
   ]
  },
  {
   "cell_type": "code",
   "execution_count": 75,
   "metadata": {},
   "outputs": [
    {
     "name": "stdout",
     "output_type": "stream",
     "text": [
      "WARNING:tensorflow:Layer lstm_10 will not use cuDNN kernels since it doesn't meet the criteria. It will use a generic GPU kernel as fallback when running on GPU.\n"
     ]
    }
   ],
   "source": [
    "# 디코더\n",
    "decoder_inputs = Input(shape=(None,))\n",
    "\n",
    "# 디코더의 임베딩 층\n",
    "dec_emb_layer = Embedding(tar_vocab, embedding_dim)\n",
    "dec_emb = dec_emb_layer(decoder_inputs)\n",
    "\n",
    "# 디코더의 LSTM\n",
    "decoder_lstm = LSTM(hidden_size, return_sequences = True, return_state = True, dropout = 0.4, recurrent_dropout=0.2)\n",
    "decoder_outputs, _, _ = decoder_lstm(dec_emb, initial_state = [state_h, state_c])"
   ]
  },
  {
   "cell_type": "code",
   "execution_count": 76,
   "metadata": {},
   "outputs": [
    {
     "name": "stdout",
     "output_type": "stream",
     "text": [
      "Model: \"model_1\"\n",
      "__________________________________________________________________________________________________\n",
      " Layer (type)                   Output Shape         Param #     Connected to                     \n",
      "==================================================================================================\n",
      " input_4 (InputLayer)           [(None, 256)]        0           []                               \n",
      "                                                                                                  \n",
      " embedding_3 (Embedding)        (None, 256, 128)     5056000     ['input_4[0][0]']                \n",
      "                                                                                                  \n",
      " lstm_7 (LSTM)                  [(None, 256, 256),   394240      ['embedding_3[0][0]']            \n",
      "                                 (None, 256),                                                     \n",
      "                                 (None, 256)]                                                     \n",
      "                                                                                                  \n",
      " input_5 (InputLayer)           [(None, None)]       0           []                               \n",
      "                                                                                                  \n",
      " lstm_8 (LSTM)                  [(None, 256, 256),   525312      ['lstm_7[0][0]']                 \n",
      "                                 (None, 256),                                                     \n",
      "                                 (None, 256)]                                                     \n",
      "                                                                                                  \n",
      " embedding_4 (Embedding)        (None, None, 128)    2201600     ['input_5[0][0]']                \n",
      "                                                                                                  \n",
      " lstm_9 (LSTM)                  [(None, 256, 256),   525312      ['lstm_8[0][0]']                 \n",
      "                                 (None, 256),                                                     \n",
      "                                 (None, 256)]                                                     \n",
      "                                                                                                  \n",
      " lstm_10 (LSTM)                 [(None, None, 256),  394240      ['embedding_4[0][0]',            \n",
      "                                 (None, 256),                     'lstm_9[0][1]',                 \n",
      "                                 (None, 256)]                     'lstm_9[0][2]']                 \n",
      "                                                                                                  \n",
      " dense_1 (Dense)                (None, None, 17200)  4420400     ['lstm_10[0][0]']                \n",
      "                                                                                                  \n",
      "==================================================================================================\n",
      "Total params: 13,517,104\n",
      "Trainable params: 13,517,104\n",
      "Non-trainable params: 0\n",
      "__________________________________________________________________________________________________\n"
     ]
    }
   ],
   "source": [
    "# 디코더의 출력층\n",
    "decoder_softmax_layer = Dense(tar_vocab, activation = 'softmax')\n",
    "decoder_softmax_outputs = decoder_softmax_layer(decoder_outputs) \n",
    "\n",
    "# 모델 정의\n",
    "model = Model([encoder_inputs, decoder_inputs], decoder_softmax_outputs)\n",
    "model.summary()"
   ]
  },
  {
   "cell_type": "code",
   "execution_count": 77,
   "metadata": {},
   "outputs": [],
   "source": [
    "import urllib.request\n",
    "urllib.request.urlretrieve(\"https://raw.githubusercontent.com/ukairia777/tensorflow-nlp-tutorial/main/20.%20Text%20Summarization%20with%20Attention/attention.py\", filename=\"attention.py\")\n",
    "from attention import AttentionLayer"
   ]
  },
  {
   "cell_type": "code",
   "execution_count": 78,
   "metadata": {},
   "outputs": [
    {
     "name": "stdout",
     "output_type": "stream",
     "text": [
      "Model: \"model_2\"\n",
      "__________________________________________________________________________________________________\n",
      " Layer (type)                   Output Shape         Param #     Connected to                     \n",
      "==================================================================================================\n",
      " input_4 (InputLayer)           [(None, 256)]        0           []                               \n",
      "                                                                                                  \n",
      " embedding_3 (Embedding)        (None, 256, 128)     5056000     ['input_4[0][0]']                \n",
      "                                                                                                  \n",
      " lstm_7 (LSTM)                  [(None, 256, 256),   394240      ['embedding_3[0][0]']            \n",
      "                                 (None, 256),                                                     \n",
      "                                 (None, 256)]                                                     \n",
      "                                                                                                  \n",
      " input_5 (InputLayer)           [(None, None)]       0           []                               \n",
      "                                                                                                  \n",
      " lstm_8 (LSTM)                  [(None, 256, 256),   525312      ['lstm_7[0][0]']                 \n",
      "                                 (None, 256),                                                     \n",
      "                                 (None, 256)]                                                     \n",
      "                                                                                                  \n",
      " embedding_4 (Embedding)        (None, None, 128)    2201600     ['input_5[0][0]']                \n",
      "                                                                                                  \n",
      " lstm_9 (LSTM)                  [(None, 256, 256),   525312      ['lstm_8[0][0]']                 \n",
      "                                 (None, 256),                                                     \n",
      "                                 (None, 256)]                                                     \n",
      "                                                                                                  \n",
      " lstm_10 (LSTM)                 [(None, None, 256),  394240      ['embedding_4[0][0]',            \n",
      "                                 (None, 256),                     'lstm_9[0][1]',                 \n",
      "                                 (None, 256)]                     'lstm_9[0][2]']                 \n",
      "                                                                                                  \n",
      " attention_layer (AttentionLaye  ((None, None, 256),  131328     ['lstm_9[0][0]',                 \n",
      " r)                              (None, None, 256))               'lstm_10[0][0]']                \n",
      "                                                                                                  \n",
      " concat_layer (Concatenate)     (None, None, 512)    0           ['lstm_10[0][0]',                \n",
      "                                                                  'attention_layer[0][0]']        \n",
      "                                                                                                  \n",
      " dense_2 (Dense)                (None, None, 17200)  8823600     ['concat_layer[0][0]']           \n",
      "                                                                                                  \n",
      "==================================================================================================\n",
      "Total params: 18,051,632\n",
      "Trainable params: 18,051,632\n",
      "Non-trainable params: 0\n",
      "__________________________________________________________________________________________________\n"
     ]
    }
   ],
   "source": [
    "# 어텐션 층(어텐션 함수)\n",
    "attn_layer = AttentionLayer(name='attention_layer')\n",
    "attn_out, attn_states = attn_layer([encoder_outputs, decoder_outputs])\n",
    "\n",
    "# 어텐션의 결과와 디코더의 hidden state들을 연결\n",
    "decoder_concat_input = Concatenate(axis = -1, name='concat_layer')([decoder_outputs, attn_out])\n",
    "\n",
    "# 디코더의 출력층\n",
    "decoder_softmax_layer = Dense(tar_vocab, activation='softmax')\n",
    "decoder_softmax_outputs = decoder_softmax_layer(decoder_concat_input)\n",
    "\n",
    "# 모델 정의\n",
    "model = Model([encoder_inputs, decoder_inputs], decoder_softmax_outputs)\n",
    "model.summary()\n"
   ]
  },
  {
   "cell_type": "code",
   "execution_count": 79,
   "metadata": {},
   "outputs": [],
   "source": [
    "model.compile(optimizer='rmsprop', loss='sparse_categorical_crossentropy')"
   ]
  },
  {
   "cell_type": "code",
   "execution_count": 81,
   "metadata": {},
   "outputs": [],
   "source": [
    "# encoder_input_train, decoder_input_train, decoder_target_train 데이터를 NumPy 배열로 변환\n",
    "encoder_input_train = np.array(encoder_input_train)\n",
    "decoder_input_train = np.array(decoder_input_train)\n",
    "decoder_target_train = np.array(decoder_target_train)\n",
    "\n",
    "# encoder_input_test, decoder_input_test, decoder_target_test 데이터를 NumPy 배열로 변환\n",
    "encoder_input_test = np.array(encoder_input_test)\n",
    "decoder_input_test = np.array(decoder_input_test)\n",
    "decoder_target_test = np.array(decoder_target_test)"
   ]
  },
  {
   "cell_type": "code",
   "execution_count": 84,
   "metadata": {},
   "outputs": [
    {
     "data": {
      "text/plain": [
       "array([list([674, 18, 1329, 16, 182, 599, 1739, 20, 334, 2, 32, 4368, 318, 660, 158, 1, 6386, 6, 2234, 2, 60, 381, 539, 70, 89, 511, 427, 29, 119, 9, 5, 4368, 318, 660, 158, 1, 1428, 13, 370, 3189, 11, 373, 599, 2, 37, 51, 2919, 12, 1034, 5638, 11, 410, 24, 10, 92, 105, 4, 9, 5, 2589, 13, 1234, 500, 117, 1791, 67, 18, 805, 44, 371, 29, 309, 7, 274, 25, 1, 240, 8, 420, 16, 82, 12, 318, 71, 205, 1026, 25, 4, 165, 3, 575, 17, 380, 351, 21, 4, 9, 5, 219, 7, 1108, 1, 205, 1026, 8, 39, 6022, 29, 753, 294, 7, 228, 898, 1, 53, 82, 12, 1051, 172, 53, 8, 2742, 1494, 1, 1412, 8, 115, 52, 95, 17, 2856, 24, 10, 9, 5, 4368, 318, 660, 158, 1, 46, 7, 1494, 111, 207, 84, 503, 166, 399, 112, 8, 39, 2720, 1643, 1, 753, 29, 1791, 580, 1160, 1249, 6, 4050, 2, 160, 10, 40, 6023, 16, 337, 6, 5082, 42, 5]),\n",
       "       list([490, 11378, 300, 7764, 8, 8288, 15, 2901, 78, 154, 1170, 4273, 1, 27633, 6, 1586, 297, 78, 154, 562, 3, 169, 8, 3522, 3, 3383, 35451, 27634, 9, 5, 16589, 6899, 8, 1227, 1467, 14, 10, 3, 14956, 13, 35452, 11, 45, 196, 11203, 14957, 4273, 47, 2655, 1329, 2, 14, 10, 41, 9, 5, 196, 79, 3, 169, 6, 45, 1345, 13456, 263, 555, 47, 26, 890, 59, 121, 2, 14, 10, 160, 7, 846, 2450, 34, 16589, 11, 2934, 2, 133, 716, 4679, 11, 14956, 8, 15679, 3042, 41, 126, 42, 5, 4273, 4, 2451, 16, 56, 13, 6858, 4, 910, 109, 7, 709, 12, 15, 10210, 1406, 8, 442, 40, 954, 377, 28, 45, 11203, 47, 4, 137, 19469, 11, 470, 9, 7394, 133, 2531, 35452, 1, 2344, 4, 196, 28, 21, 488, 384, 6, 2769, 2, 14, 10, 3, 3043, 4, 9, 5, 1620, 2699, 18, 9361, 97, 6, 1620, 709, 8, 3227, 2, 831, 45, 32215, 47, 721, 1, 10904, 17, 127, 80, 452, 162, 116, 3850, 382, 26, 3, 1027, 6, 107, 3, 21, 119, 171, 78, 9, 5, 283, 14958, 500, 29, 1541, 500, 3, 35452, 11, 196, 1, 14957, 4273, 15, 3392, 2, 3, 21, 8, 35453, 36, 3816, 2, 14, 10, 109, 196, 79, 3, 4, 25, 1, 2425, 11, 25, 13, 2046, 30, 51, 14, 10, 9, 5]),\n",
       "       list([87, 16, 319, 18, 1221, 165, 195, 315, 6, 207, 2, 43, 160, 7, 445, 3059, 81, 4, 211, 12, 15, 195, 2, 31, 220, 3, 1504, 3059, 81, 1, 121, 7, 1326, 974, 38, 1585, 49, 7, 2142, 263, 22, 460, 23, 63, 7, 570, 173, 342, 4, 1057, 12, 15, 1544, 2, 61, 4, 11, 220, 3, 103, 12, 28, 1804, 4, 10, 200, 2, 518, 4, 11, 68, 1737, 49, 1, 55, 35, 6, 207, 2, 43, 9, 5, 365, 15, 333, 1012, 59, 37, 14, 10, 3, 3059, 1426, 19470, 11, 363, 2, 31, 68, 10771, 4223, 20, 2789, 121, 1, 179, 12, 28, 395, 6, 104, 1036, 121, 1754, 8, 39, 79, 121, 243, 1, 279, 20, 4, 29, 323, 44, 2064, 88, 1, 839, 38, 1183, 6, 68, 79, 121, 387, 1, 279, 1, 55, 35, 6, 207, 2, 43, 9, 5]),\n",
       "       ...,\n",
       "       list([32244, 423, 3, 1545, 49, 38, 234, 336, 4099, 49, 8, 389, 12, 15, 397, 2, 3, 21, 4, 9, 5, 542, 66, 162, 1, 3605, 17, 318, 543, 17, 648, 631, 19, 14, 253, 1470, 35, 4, 94, 171, 37, 61, 692, 81, 1378, 25, 30, 542, 81, 15, 1908, 2, 36, 5516, 27, 24, 10, 102, 2, 14, 7, 242, 2014, 335, 8, 39, 234, 4029, 215, 38, 4077, 1342, 256, 602, 88, 147, 33, 15, 335, 25, 1, 5910, 38, 5516, 8, 39, 3568, 6, 1049, 2, 36, 2, 3, 21, 4, 286, 4, 9, 5, 4, 11, 104, 931, 190, 18, 295, 190, 15, 1, 2120, 12, 28, 253, 108, 15, 1, 1146, 6, 4419, 14, 10, 106, 7, 234, 336, 4099, 49, 8, 397, 16, 234, 4029, 6, 215, 27, 173, 4, 9, 5, 98, 362, 101, 543, 969, 63, 6, 68, 234, 117, 11, 1757, 49, 2, 14, 7, 2144, 88, 53, 542, 81, 631, 6, 68, 81, 341, 6, 855, 27, 173, 4, 9, 5]),\n",
       "       list([624, 6287, 29, 62, 499, 3, 57, 70, 308, 712, 1, 624, 111, 583, 221, 720, 4, 14182, 811, 2, 14, 10, 3, 1107, 1594, 6, 694, 587, 22, 447, 11, 25, 40, 70, 308, 1141, 1, 624, 925, 4286, 6, 972, 46, 23, 8, 4398, 2, 3, 315, 6, 201, 2, 102, 42, 5, 1216, 1863, 223, 8, 3, 382, 587, 1, 46, 1216, 14536, 32, 11, 4398, 2, 32, 811, 2, 3, 315, 6, 201, 2, 102, 42, 22, 188, 624, 2248, 2, 32, 1216, 1863, 6, 181, 2, 14, 10, 14, 482, 29, 2460, 17, 181, 2, 14, 10, 3, 46, 4398, 6, 2, 3, 46, 29, 646, 16, 1211, 4, 61, 7, 2069, 1, 45, 12813, 4175, 47, 20, 646, 2, 9, 23, 5, 482, 29, 2460, 17, 560, 8, 2640, 3441, 547, 167, 2285, 67, 11, 181, 27, 24, 10, 102, 7, 560, 181, 223, 8, 30, 2279, 356, 111, 1216, 14536, 32, 11, 147, 2, 102, 42, 22, 4721, 18, 3, 2640, 3441, 547, 167, 2285, 6, 2279, 17, 560, 8, 181, 27, 46, 1615, 2, 32, 811, 27, 24, 74, 102, 19, 40, 10, 9, 23, 5]),\n",
       "       list([260, 17, 184, 1, 1129, 4, 74, 3, 450, 18, 655, 826, 6, 147, 2, 3, 46, 3, 1291, 93, 1030, 118, 18, 168, 648, 1488, 19, 41, 9, 5, 1030, 118, 18, 3, 245, 8, 812, 6, 1100, 14, 10, 3, 184, 111, 260, 17, 373, 9109, 593, 12, 15, 826, 6, 125, 3, 46, 17, 168, 1938, 1698, 8, 3720, 41, 9, 5, 4, 8, 2522, 7, 1291, 18, 260, 17, 1740, 6, 4849, 2, 61, 184, 122, 6, 5093, 3, 21, 13, 122, 8, 812, 6, 1100, 3, 184, 6, 593, 12, 15, 2092, 31, 68, 286, 93, 3, 280, 12, 28, 122, 1, 267, 177, 6, 304, 2, 3, 224, 286, 4, 10, 3, 46, 17, 168, 145, 156, 9, 5, 260, 1, 1456, 12, 28, 826, 147, 319, 18, 1030, 118, 29, 1291, 101, 8, 1569, 299, 3, 1045, 130, 95, 18, 30, 304, 19, 41, 9, 22, 381, 539, 3565, 89, 511, 427, 1374, 23, 5, 98, 565, 72, 8, 21912, 3, 184, 6, 976, 2, 2099, 153, 260, 17, 3261, 12, 28, 513, 11, 1657, 3, 97, 30, 1291, 93, 3, 1030, 118, 18, 168, 648, 10, 3, 21, 15, 273, 9, 5])],\n",
       "      dtype=object)"
      ]
     },
     "execution_count": 84,
     "metadata": {},
     "output_type": "execute_result"
    }
   ],
   "source": [
    "encoder_input_train"
   ]
  },
  {
   "cell_type": "code",
   "execution_count": 85,
   "metadata": {},
   "outputs": [
    {
     "data": {
      "text/plain": [
       "array([list([16, 3886, 251, 972, 11548, 11, 308, 2975, 10, 438, 602, 6, 36, 58, 3118, 12, 841, 4615, 10, 369, 28, 13, 80, 9, 185, 8, 426, 20, 72, 12, 251, 67, 170, 909, 2, 431, 15, 13, 7, 1, 107, 8, 1776, 2, 1298, 8, 111, 93, 15, 2913, 1]),\n",
       "       list([16, 147, 21, 5, 1491, 2858, 21, 145, 4, 1491, 699, 8, 3144, 6, 817, 632, 10, 97, 109, 381, 143, 179, 14, 13, 7, 1, 230, 699, 11549, 26, 1324, 440, 5, 10, 147, 2, 8852, 4096, 18, 3496, 6, 5, 27, 8, 3079, 6, 14, 13, 80, 147, 64, 5, 3, 10, 25, 11, 2006, 30, 58, 14, 13, 7, 1]),\n",
       "       list([16, 2957, 74, 2, 204, 137, 4, 53, 74, 91, 9, 1087, 848, 109, 1348, 47, 9, 1919, 200, 55, 9, 555, 150, 4, 70, 13148, 15, 45, 6, 7, 1, 898, 91, 2141, 8, 38, 91, 309, 228, 30, 45, 6, 7, 1]),\n",
       "       ...,\n",
       "       list([16, 421, 5, 184, 316, 2, 3447, 47, 8, 111, 9, 383, 12, 32, 312, 4, 6, 5, 27, 3, 7, 1, 447, 62, 462, 530, 40, 5984, 9, 5275, 40, 5984, 2, 3282, 843, 15, 235, 18, 9, 184, 3235, 19, 286, 4, 672, 31, 150, 3, 7, 1]),\n",
       "       list([16, 758, 2222, 10, 53, 601, 5952, 8, 38, 55, 1108, 18, 492, 203, 169, 8, 38, 905, 1406, 4, 763, 6, 14, 9, 981, 10, 70, 1612, 151, 8, 981, 11280, 4004, 123, 6, 5, 232, 30, 182, 54, 24, 1]),\n",
       "       list([16, 222, 2, 1175, 12, 32, 557, 123, 177, 13807, 5, 167, 8, 38, 3540, 12, 32, 452, 5, 1265, 135, 944, 121, 21, 215, 678, 1439, 22, 37, 7, 1, 1079, 151, 21, 30, 1265, 222, 5, 627, 12, 32, 557, 135, 167, 25, 2, 380, 12, 32, 116, 187, 202, 325, 4, 3755, 6, 57, 7, 1])],\n",
       "      dtype=object)"
      ]
     },
     "execution_count": 85,
     "metadata": {},
     "output_type": "execute_result"
    }
   ],
   "source": [
    "decoder_input_train"
   ]
  },
  {
   "cell_type": "code",
   "execution_count": 86,
   "metadata": {},
   "outputs": [
    {
     "data": {
      "text/plain": [
       "array([list([3886, 251, 972, 11548, 11, 308, 2975, 10, 438, 602, 6, 36, 58, 3118, 12, 841, 4615, 10, 369, 28, 13, 80, 9, 185, 8, 426, 20, 72, 12, 251, 67, 170, 909, 2, 431, 15, 13, 7, 1, 107, 8, 1776, 2, 1298, 8, 111, 93, 15, 2913, 1, 17]),\n",
       "       list([147, 21, 5, 1491, 2858, 21, 145, 4, 1491, 699, 8, 3144, 6, 817, 632, 10, 97, 109, 381, 143, 179, 14, 13, 7, 1, 230, 699, 11549, 26, 1324, 440, 5, 10, 147, 2, 8852, 4096, 18, 3496, 6, 5, 27, 8, 3079, 6, 14, 13, 80, 147, 64, 5, 3, 10, 25, 11, 2006, 30, 58, 14, 13, 7, 1, 17]),\n",
       "       list([2957, 74, 2, 204, 137, 4, 53, 74, 91, 9, 1087, 848, 109, 1348, 47, 9, 1919, 200, 55, 9, 555, 150, 4, 70, 13148, 15, 45, 6, 7, 1, 898, 91, 2141, 8, 38, 91, 309, 228, 30, 45, 6, 7, 1, 17]),\n",
       "       ...,\n",
       "       list([421, 5, 184, 316, 2, 3447, 47, 8, 111, 9, 383, 12, 32, 312, 4, 6, 5, 27, 3, 7, 1, 447, 62, 462, 530, 40, 5984, 9, 5275, 40, 5984, 2, 3282, 843, 15, 235, 18, 9, 184, 3235, 19, 286, 4, 672, 31, 150, 3, 7, 1, 17]),\n",
       "       list([758, 2222, 10, 53, 601, 5952, 8, 38, 55, 1108, 18, 492, 203, 169, 8, 38, 905, 1406, 4, 763, 6, 14, 9, 981, 10, 70, 1612, 151, 8, 981, 11280, 4004, 123, 6, 5, 232, 30, 182, 54, 24, 1, 17]),\n",
       "       list([222, 2, 1175, 12, 32, 557, 123, 177, 13807, 5, 167, 8, 38, 3540, 12, 32, 452, 5, 1265, 135, 944, 121, 21, 215, 678, 1439, 22, 37, 7, 1, 1079, 151, 21, 30, 1265, 222, 5, 627, 12, 32, 557, 135, 167, 25, 2, 380, 12, 32, 116, 187, 202, 325, 4, 3755, 6, 57, 7, 1, 17])],\n",
       "      dtype=object)"
      ]
     },
     "execution_count": 86,
     "metadata": {},
     "output_type": "execute_result"
    }
   ],
   "source": [
    "decoder_target_train"
   ]
  },
  {
   "cell_type": "code",
   "execution_count": null,
   "metadata": {},
   "outputs": [],
   "source": [
    "# 메모리 정리\n",
    "import gc\n",
    "gc.collect()"
   ]
  },
  {
   "cell_type": "code",
   "execution_count": 89,
   "metadata": {},
   "outputs": [
    {
     "name": "stdout",
     "output_type": "stream",
     "text": [
      "Epoch 1/30\n",
      "1398/1398 [==============================] - 3765s 3s/step - loss: 3.8545 - val_loss: 3.4123\n",
      "Epoch 2/30\n",
      "1398/1398 [==============================] - 3830s 3s/step - loss: 3.3063 - val_loss: 3.1596\n",
      "Epoch 3/30\n",
      "1398/1398 [==============================] - 3846s 3s/step - loss: 3.1166 - val_loss: 3.0166\n",
      "Epoch 4/30\n",
      "1398/1398 [==============================] - 3969s 3s/step - loss: 2.9994 - val_loss: 2.9275\n",
      "Epoch 5/30\n",
      "1398/1398 [==============================] - 3990s 3s/step - loss: 2.9181 - val_loss: 2.8603\n",
      "Epoch 6/30\n",
      "1398/1398 [==============================] - 3921s 3s/step - loss: 2.8566 - val_loss: 2.8133\n",
      "Epoch 7/30\n",
      "1398/1398 [==============================] - 4067s 3s/step - loss: 2.8060 - val_loss: 2.7636\n",
      "Epoch 8/30\n",
      "1398/1398 [==============================] - 3901s 3s/step - loss: 2.7600 - val_loss: 2.7287\n",
      "Epoch 9/30\n",
      "1398/1398 [==============================] - 3975s 3s/step - loss: 2.7214 - val_loss: 2.6875\n",
      "Epoch 10/30\n",
      "1398/1398 [==============================] - 6606s 5s/step - loss: 2.6819 - val_loss: 2.6565\n",
      "Epoch 11/30\n",
      "1398/1398 [==============================] - 4121s 3s/step - loss: 2.6408 - val_loss: 2.5886\n",
      "Epoch 12/30\n",
      "1398/1398 [==============================] - 4063s 3s/step - loss: 2.5952 - val_loss: 2.5363\n",
      "Epoch 13/30\n",
      "1398/1398 [==============================] - 3863s 3s/step - loss: 2.5388 - val_loss: 2.4471\n",
      "Epoch 14/30\n",
      "1398/1398 [==============================] - 3907s 3s/step - loss: 2.4679 - val_loss: 2.3415\n",
      "Epoch 15/30\n",
      "1398/1398 [==============================] - 4166s 3s/step - loss: 2.3757 - val_loss: 2.2254\n",
      "Epoch 16/30\n",
      "1398/1398 [==============================] - 4285s 3s/step - loss: 2.2779 - val_loss: 2.1833\n",
      "Epoch 17/30\n",
      "1398/1398 [==============================] - 4138s 3s/step - loss: 2.1972 - val_loss: 2.0956\n",
      "Epoch 18/30\n",
      "1398/1398 [==============================] - 4395s 3s/step - loss: 2.1357 - val_loss: 2.0550\n",
      "Epoch 19/30\n",
      "1398/1398 [==============================] - 3883s 3s/step - loss: 2.0901 - val_loss: 2.0155\n",
      "Epoch 20/30\n",
      "1398/1398 [==============================] - 3764s 3s/step - loss: 2.0544 - val_loss: 2.0167\n",
      "Epoch 21/30\n",
      "1398/1398 [==============================] - 3767s 3s/step - loss: 2.0252 - val_loss: 1.9795\n",
      "Epoch 22/30\n",
      "1398/1398 [==============================] - 3766s 3s/step - loss: 1.9959 - val_loss: 1.9756\n",
      "Epoch 23/30\n",
      "1398/1398 [==============================] - 3767s 3s/step - loss: 1.9730 - val_loss: 1.9534\n",
      "Epoch 24/30\n",
      "1398/1398 [==============================] - 3769s 3s/step - loss: 1.9528 - val_loss: 1.9481\n",
      "Epoch 25/30\n",
      "1398/1398 [==============================] - 3762s 3s/step - loss: 1.9372 - val_loss: 1.9315\n",
      "Epoch 26/30\n",
      "1398/1398 [==============================] - 3794s 3s/step - loss: 1.9221 - val_loss: 1.9273\n",
      "Epoch 27/30\n",
      "1398/1398 [==============================] - 3754s 3s/step - loss: 1.9077 - val_loss: 1.9395\n",
      "Epoch 28/30\n",
      "1398/1398 [==============================] - 3797s 3s/step - loss: 1.8948 - val_loss: 1.9255\n",
      "Epoch 29/30\n",
      "1398/1398 [==============================] - 3768s 3s/step - loss: 1.8812 - val_loss: 1.9017\n",
      "Epoch 30/30\n",
      "1398/1398 [==============================] - 3807s 3s/step - loss: 1.8683 - val_loss: 1.8915\n"
     ]
    }
   ],
   "source": [
    "es = EarlyStopping(monitor='val_loss', mode='min', verbose=1, patience=2)\n",
    "mc = ModelCheckpoint(filepath='./data/booksummary/best_model.h5',monitor='val_loss',save_best_only=True)\n",
    "history = model.fit(x=[encoder_input_train, decoder_input_train], y=decoder_target_train,\n",
    "                    validation_data=([encoder_input_test, decoder_input_test], decoder_target_test),\n",
    "                    batch_size=64,  # 배치 크기를 128로 변경\n",
    "                    callbacks=[es,mc],\n",
    "                    epochs=30)"
   ]
  },
  {
   "cell_type": "code",
   "execution_count": 91,
   "metadata": {},
   "outputs": [],
   "source": [
    "src_index_to_word = src_tokenizer.index_word # 원문 단어 집합에서 정수 -> 단어를 얻음\n",
    "tar_word_to_index = tar_tokenizer.word_index # 요약 단어 집합에서 단어 -> 정수를 얻음\n",
    "tar_index_to_word = tar_tokenizer.index_word # 요약 단어 집합에서 정수 -> 단어를 얻음\n"
   ]
  },
  {
   "cell_type": "code",
   "execution_count": 92,
   "metadata": {},
   "outputs": [],
   "source": [
    "# 인코더 설계\n",
    "encoder_model = Model(inputs=encoder_inputs, outputs=[encoder_outputs, state_h, state_c])\n"
   ]
  },
  {
   "cell_type": "code",
   "execution_count": 93,
   "metadata": {},
   "outputs": [],
   "source": [
    "# 이전 시점의 상태들을 저장하는 텐서\n",
    "decoder_state_input_h = Input(shape=(hidden_size,))\n",
    "decoder_state_input_c = Input(shape=(hidden_size,))\n",
    "\n",
    "dec_emb2 = dec_emb_layer(decoder_inputs)\n",
    "# 문장의 다음 단어를 예측하기 위해서 초기 상태(initial_state)를 이전 시점의 상태로 사용. 이는 뒤의 함수 decode_sequence()에 구현\n",
    "# 훈련 과정에서와 달리 LSTM의 리턴하는 은닉 상태와 셀 상태인 state_h와 state_c를 버리지 않음.\n",
    "decoder_outputs2, state_h2, state_c2 = decoder_lstm(dec_emb2, initial_state=[decoder_state_input_h, decoder_state_input_c])\n"
   ]
  },
  {
   "cell_type": "code",
   "execution_count": 94,
   "metadata": {},
   "outputs": [],
   "source": [
    "# 어텐션 함수\n",
    "decoder_hidden_state_input = Input(shape=(text_max_len, hidden_size))\n",
    "attn_out_inf, attn_states_inf = attn_layer([decoder_hidden_state_input, decoder_outputs2])\n",
    "decoder_inf_concat = Concatenate(axis=-1, name='concat')([decoder_outputs2, attn_out_inf])\n",
    "\n",
    "# 디코더의 출력층\n",
    "decoder_outputs2 = decoder_softmax_layer(decoder_inf_concat) \n",
    "\n",
    "# 최종 디코더 모델\n",
    "decoder_model = Model(\n",
    "    [decoder_inputs] + [decoder_hidden_state_input,decoder_state_input_h, decoder_state_input_c],\n",
    "    [decoder_outputs2] + [state_h2, state_c2])\n"
   ]
  },
  {
   "cell_type": "code",
   "execution_count": 95,
   "metadata": {},
   "outputs": [],
   "source": [
    "def decode_sequence(input_seq):\n",
    "    # 입력으로부터 인코더의 상태를 얻음\n",
    "    e_out, e_h, e_c = encoder_model.predict(input_seq)\n",
    "\n",
    "    # <SOS>에 해당하는 토큰 생성\n",
    "    target_seq = np.zeros((1,1))\n",
    "    target_seq[0, 0] = tar_word_to_index['sostoken']\n",
    "\n",
    "    stop_condition = False\n",
    "    decoded_sentence = ''\n",
    "    while not stop_condition: # stop_condition이 True가 될 때까지 루프 반복\n",
    "\n",
    "        output_tokens, h, c = decoder_model.predict([target_seq] + [e_out, e_h, e_c])\n",
    "        sampled_token_index = np.argmax(output_tokens[0, -1, :])\n",
    "        sampled_token = tar_index_to_word[sampled_token_index]\n",
    "\n",
    "        if(sampled_token!='eostoken'):\n",
    "            decoded_sentence += ' '+sampled_token\n",
    "\n",
    "        #  <eos>에 도달하거나 최대 길이를 넘으면 중단.\n",
    "        if (sampled_token == 'eostoken'  or len(decoded_sentence.split()) >= (summary_max_len-1)):\n",
    "            stop_condition = True\n",
    "\n",
    "        # 길이가 1인 타겟 시퀀스를 업데이트\n",
    "        target_seq = np.zeros((1,1))\n",
    "        target_seq[0, 0] = sampled_token_index\n",
    "\n",
    "        # 상태를 업데이트 합니다.\n",
    "        e_h, e_c = h, c\n",
    "\n",
    "    return decoded_sentence\n"
   ]
  },
  {
   "cell_type": "code",
   "execution_count": 96,
   "metadata": {},
   "outputs": [],
   "source": [
    "# 원문의 정수 시퀀스를 텍스트 시퀀스로 변환\n",
    "def seq2text(input_seq):\n",
    "    sentence=''\n",
    "    for i in input_seq:\n",
    "        if(i!=0):\n",
    "            sentence = sentence + src_index_to_word[i]+' '\n",
    "    return sentence\n",
    "\n",
    "# 요약문의 정수 시퀀스를 텍스트 시퀀스로 변환\n",
    "def seq2summary(input_seq):\n",
    "    sentence=''\n",
    "    for i in input_seq:\n",
    "        if((i!=0 and i!=tar_word_to_index['sostoken']) and i!=tar_word_to_index['eostoken']):\n",
    "            sentence = sentence + tar_index_to_word[i] + ' '\n",
    "    return sentence\n"
   ]
  },
  {
   "cell_type": "code",
   "execution_count": 97,
   "metadata": {},
   "outputs": [
    {
     "name": "stdout",
     "output_type": "stream",
     "text": [
      "이것은 이것이 반복되는 반복 단어 제거 테스트입니다.\n"
     ]
    }
   ],
   "source": [
    "def remove_repeated_words(sentence):\n",
    "    words = sentence.split()\n",
    "    filtered_words = [words[0]]\n",
    "    for i in range(1, len(words)):\n",
    "        if words[i] != words[i - 1]:\n",
    "            filtered_words.append(words[i])\n",
    "    return ' '.join(filtered_words)\n",
    "\n",
    "# 예시 문장\n",
    "sentence = \"이것은 이것이 반복되는 반복 단어 단어 제거 제거 테스트입니다.\"\n",
    "result = remove_repeated_words(sentence)\n",
    "print(result)\n"
   ]
  },
  {
   "cell_type": "code",
   "execution_count": 109,
   "metadata": {},
   "outputs": [
    {
     "name": "stdout",
     "output_type": "stream",
     "text": [
      "1/1 [==============================] - 1s 532ms/step\n",
      "1/1 [==============================] - 0s 21ms/step\n",
      "1/1 [==============================] - 0s 20ms/step\n",
      "1/1 [==============================] - 0s 19ms/step\n",
      "1/1 [==============================] - 0s 19ms/step\n",
      "1/1 [==============================] - 0s 19ms/step\n",
      "1/1 [==============================] - 0s 21ms/step\n",
      "1/1 [==============================] - 0s 19ms/step\n",
      "1/1 [==============================] - 0s 20ms/step\n",
      "1/1 [==============================] - 0s 20ms/step\n",
      "1/1 [==============================] - 0s 20ms/step\n",
      "1/1 [==============================] - 0s 19ms/step\n",
      "1/1 [==============================] - 0s 21ms/step\n",
      "1/1 [==============================] - 0s 19ms/step\n",
      "1/1 [==============================] - 0s 18ms/step\n",
      "1/1 [==============================] - 0s 20ms/step\n",
      "1/1 [==============================] - 0s 16ms/step\n",
      "1/1 [==============================] - 0s 17ms/step\n",
      "1/1 [==============================] - 0s 16ms/step\n",
      "1/1 [==============================] - 0s 17ms/step\n",
      "1/1 [==============================] - 0s 17ms/step\n",
      "1/1 [==============================] - 0s 17ms/step\n",
      "1/1 [==============================] - 0s 16ms/step\n",
      "1/1 [==============================] - 0s 17ms/step\n",
      "1/1 [==============================] - 0s 16ms/step\n",
      "1/1 [==============================] - 0s 17ms/step\n",
      "1/1 [==============================] - 0s 17ms/step\n",
      "1/1 [==============================] - 0s 17ms/step\n",
      "1/1 [==============================] - 0s 17ms/step\n",
      "1/1 [==============================] - 0s 17ms/step\n",
      "1/1 [==============================] - 0s 17ms/step\n",
      "1/1 [==============================] - 0s 17ms/step\n",
      "1/1 [==============================] - 0s 17ms/step\n",
      "1/1 [==============================] - 0s 16ms/step\n",
      "1/1 [==============================] - 0s 17ms/step\n",
      "1/1 [==============================] - 0s 17ms/step\n",
      "1/1 [==============================] - 0s 25ms/step\n",
      "1/1 [==============================] - 0s 16ms/step\n",
      "1/1 [==============================] - 0s 17ms/step\n",
      "1/1 [==============================] - 0s 16ms/step\n",
      "1/1 [==============================] - 0s 17ms/step\n",
      "1/1 [==============================] - 0s 17ms/step\n",
      "1/1 [==============================] - 0s 18ms/step\n",
      "1/1 [==============================] - 0s 17ms/step\n",
      "1/1 [==============================] - 0s 17ms/step\n",
      "1/1 [==============================] - 0s 17ms/step\n",
      "1/1 [==============================] - 0s 16ms/step\n",
      "1/1 [==============================] - 0s 18ms/step\n",
      "1/1 [==============================] - 0s 17ms/step\n",
      "1/1 [==============================] - 0s 19ms/step\n",
      "1/1 [==============================] - 0s 17ms/step\n",
      "1/1 [==============================] - 0s 18ms/step\n",
      "1/1 [==============================] - 0s 20ms/step\n",
      "1/1 [==============================] - 0s 18ms/step\n",
      "1/1 [==============================] - 0s 18ms/step\n",
      "1/1 [==============================] - 0s 18ms/step\n",
      "예측 요약문 :  독일 에서 는 독일 내 전체 전 세계 를 보급 하 고 있 으며 , 전기차 는 현재 독일 내 전체 전 세계 를 보급 하 고 있 다 . 이 들 은 프랑스 내 약 3 , 대 를 보급 하 고 있 으며 , 이 를 보급 하 고 있 다 .\n",
      "1/1 [==============================] - 0s 251ms/step\n",
      "1/1 [==============================] - 0s 19ms/step\n",
      "1/1 [==============================] - 0s 17ms/step\n",
      "1/1 [==============================] - 0s 17ms/step\n",
      "1/1 [==============================] - 0s 18ms/step\n",
      "1/1 [==============================] - 0s 21ms/step\n",
      "1/1 [==============================] - 0s 24ms/step\n",
      "1/1 [==============================] - 0s 19ms/step\n",
      "1/1 [==============================] - 0s 20ms/step\n",
      "1/1 [==============================] - 0s 19ms/step\n",
      "1/1 [==============================] - 0s 22ms/step\n",
      "1/1 [==============================] - 0s 19ms/step\n",
      "1/1 [==============================] - 0s 18ms/step\n",
      "1/1 [==============================] - 0s 36ms/step\n",
      "1/1 [==============================] - 0s 21ms/step\n",
      "1/1 [==============================] - 0s 20ms/step\n",
      "1/1 [==============================] - 0s 18ms/step\n",
      "1/1 [==============================] - 0s 19ms/step\n",
      "1/1 [==============================] - 0s 19ms/step\n",
      "1/1 [==============================] - 0s 17ms/step\n",
      "1/1 [==============================] - 0s 16ms/step\n",
      "1/1 [==============================] - 0s 17ms/step\n",
      "1/1 [==============================] - 0s 19ms/step\n",
      "1/1 [==============================] - 0s 17ms/step\n",
      "1/1 [==============================] - 0s 18ms/step\n",
      "1/1 [==============================] - 0s 18ms/step\n",
      "1/1 [==============================] - 0s 17ms/step\n",
      "1/1 [==============================] - 0s 17ms/step\n",
      "1/1 [==============================] - 0s 16ms/step\n",
      "1/1 [==============================] - 0s 18ms/step\n",
      "1/1 [==============================] - 0s 20ms/step\n",
      "1/1 [==============================] - 0s 17ms/step\n",
      "1/1 [==============================] - 0s 17ms/step\n",
      "1/1 [==============================] - 0s 17ms/step\n",
      "1/1 [==============================] - 0s 17ms/step\n",
      "1/1 [==============================] - 0s 17ms/step\n",
      "1/1 [==============================] - 0s 17ms/step\n",
      "1/1 [==============================] - 0s 17ms/step\n",
      "1/1 [==============================] - 0s 19ms/step\n",
      "1/1 [==============================] - 0s 17ms/step\n",
      "1/1 [==============================] - 0s 18ms/step\n",
      "1/1 [==============================] - 0s 18ms/step\n",
      "1/1 [==============================] - 0s 17ms/step\n",
      "1/1 [==============================] - 0s 17ms/step\n",
      "1/1 [==============================] - 0s 17ms/step\n",
      "1/1 [==============================] - 0s 16ms/step\n",
      "1/1 [==============================] - 0s 25ms/step\n",
      "1/1 [==============================] - 0s 19ms/step\n",
      "1/1 [==============================] - 0s 17ms/step\n",
      "1/1 [==============================] - 0s 16ms/step\n",
      "1/1 [==============================] - 0s 17ms/step\n",
      "1/1 [==============================] - 0s 18ms/step\n",
      "1/1 [==============================] - 0s 16ms/step\n",
      "1/1 [==============================] - 0s 17ms/step\n",
      "1/1 [==============================] - 0s 18ms/step\n",
      "1/1 [==============================] - 0s 17ms/step\n",
      "반복 제거 예측 요약문 : 독일 에서 는 독일 내 전체 전 세계 를 보급 하 고 있 으며 , 전기차 는 현재 독일 내 전체 전 세계 를 보급 하 고 있 다 . 이 들 은 프랑스 내 약 3 , 대 를 보급 하 고 있 으며 , 이 를 보급 하 고 있 다 .\n",
      "실제 요약문 : 독일 은 smart for two 라는 전기 기반 차종 을 보급 하 며 노르웨이 는 탄소 배출 저감 목표 로 초 소형 전기 자동차 city 를 보급 하 고 프랑스 는 전기 트 를 개발 해 카 형태 로 보급 하 고 있 다 . \n",
      "원문 :  독일 에서 는 smart for two 라는 초 소형 자동차 를 내연 기반 및 전기 기반 의 두 가지 차종 으로 개발 하 여 보급 되 고 있 으며 , 전기차 는 현재 독일 내 전체 전 기차 보급 대수 대비 22 % 의 점유 율 을 차지 하 고 있 으며 , 노르웨이 의 경우 전통 적 인 자동차 제작사 를 보유 하 고 있 지 는 않 으나 , 교통 부문 탄소 배출 저감 이라 는 목표 아래 think city 라는 초 소형 전기 자동차 를 생산 해 보급 했으며 , 노르 웨 이내 전기차 보급 대수 대비 4 . 1 % 를 보급 했 다 . 프랑스 의 경우 트 라는 초 소형 자동차 를 개발 하 여 카 쉐어링 형태 로 주로 활용 하 는 전기 차 를 보급 하 고 있 다 . 트 는 l 카테고리 로 분류 되 어 전기자동차 ( m 1 ) 보급 통계 에 포함 되 지 는 않 으나 , 현재 프랑스 내 약 3 , 267 대 를 보급 하 고 있 으며 , l 카테고리 를 포함 한 전기차 시장 점유 율 은 10 % 수준 이 다 . \n",
      "\n",
      "\n",
      "1/1 [==============================] - 0s 320ms/step\n",
      "1/1 [==============================] - 0s 17ms/step\n",
      "1/1 [==============================] - 0s 17ms/step\n",
      "1/1 [==============================] - 0s 18ms/step\n",
      "1/1 [==============================] - 0s 18ms/step\n",
      "1/1 [==============================] - 0s 17ms/step\n",
      "1/1 [==============================] - 0s 18ms/step\n",
      "1/1 [==============================] - 0s 20ms/step\n",
      "1/1 [==============================] - 0s 19ms/step\n",
      "1/1 [==============================] - 0s 18ms/step\n",
      "1/1 [==============================] - 0s 18ms/step\n",
      "1/1 [==============================] - 0s 18ms/step\n",
      "1/1 [==============================] - 0s 17ms/step\n",
      "1/1 [==============================] - 0s 17ms/step\n",
      "1/1 [==============================] - 0s 17ms/step\n",
      "1/1 [==============================] - 0s 18ms/step\n",
      "1/1 [==============================] - 0s 18ms/step\n",
      "1/1 [==============================] - 0s 17ms/step\n",
      "1/1 [==============================] - 0s 18ms/step\n",
      "1/1 [==============================] - 0s 18ms/step\n",
      "1/1 [==============================] - 0s 18ms/step\n",
      "1/1 [==============================] - 0s 19ms/step\n",
      "1/1 [==============================] - 0s 24ms/step\n",
      "1/1 [==============================] - 0s 20ms/step\n",
      "1/1 [==============================] - 0s 17ms/step\n",
      "1/1 [==============================] - 0s 15ms/step\n",
      "1/1 [==============================] - 0s 17ms/step\n",
      "1/1 [==============================] - 0s 17ms/step\n",
      "1/1 [==============================] - 0s 16ms/step\n",
      "1/1 [==============================] - 0s 17ms/step\n",
      "1/1 [==============================] - 0s 18ms/step\n",
      "1/1 [==============================] - 0s 16ms/step\n",
      "1/1 [==============================] - 0s 16ms/step\n",
      "1/1 [==============================] - 0s 16ms/step\n",
      "1/1 [==============================] - 0s 18ms/step\n",
      "1/1 [==============================] - 0s 16ms/step\n",
      "1/1 [==============================] - 0s 17ms/step\n",
      "1/1 [==============================] - 0s 17ms/step\n",
      "1/1 [==============================] - 0s 17ms/step\n",
      "1/1 [==============================] - 0s 16ms/step\n",
      "1/1 [==============================] - 0s 16ms/step\n",
      "1/1 [==============================] - 0s 17ms/step\n",
      "1/1 [==============================] - 0s 16ms/step\n",
      "1/1 [==============================] - 0s 16ms/step\n",
      "1/1 [==============================] - 0s 16ms/step\n",
      "1/1 [==============================] - 0s 17ms/step\n",
      "1/1 [==============================] - 0s 18ms/step\n",
      "1/1 [==============================] - 0s 18ms/step\n",
      "1/1 [==============================] - 0s 17ms/step\n",
      "1/1 [==============================] - 0s 16ms/step\n",
      "1/1 [==============================] - 0s 19ms/step\n",
      "1/1 [==============================] - 0s 20ms/step\n",
      "1/1 [==============================] - 0s 19ms/step\n",
      "1/1 [==============================] - 0s 17ms/step\n",
      "1/1 [==============================] - 0s 17ms/step\n",
      "1/1 [==============================] - 0s 17ms/step\n",
      "1/1 [==============================] - 0s 16ms/step\n",
      "1/1 [==============================] - 0s 23ms/step\n",
      "1/1 [==============================] - 0s 20ms/step\n",
      "1/1 [==============================] - 0s 20ms/step\n",
      "1/1 [==============================] - 0s 19ms/step\n",
      "1/1 [==============================] - 0s 21ms/step\n",
      "1/1 [==============================] - 0s 22ms/step\n",
      "1/1 [==============================] - 0s 22ms/step\n",
      "1/1 [==============================] - 0s 22ms/step\n",
      "예측 요약문 :  문항 은 ‘ 유산 의 날 행사 기간 ’ 과 관련 된 텍스트 를 찾 아 읽 고 문제 를 풀 기 로 구성 되 어 있 다 . 평가 틀 하위 요소 를 기준 으로 보 았 을 때 , 비 연속 적 인 기술 유형 을 보이 는 텍스트 를 읽 고 해당 정보 에 접근 ․ 확인 해야 한다 .\n",
      "1/1 [==============================] - 0s 275ms/step\n",
      "1/1 [==============================] - 0s 20ms/step\n",
      "1/1 [==============================] - 0s 19ms/step\n",
      "1/1 [==============================] - 0s 20ms/step\n",
      "1/1 [==============================] - 0s 19ms/step\n",
      "1/1 [==============================] - 0s 28ms/step\n",
      "1/1 [==============================] - 0s 21ms/step\n",
      "1/1 [==============================] - 0s 19ms/step\n",
      "1/1 [==============================] - 0s 32ms/step\n",
      "1/1 [==============================] - 0s 27ms/step\n",
      "1/1 [==============================] - 0s 19ms/step\n",
      "1/1 [==============================] - 0s 17ms/step\n",
      "1/1 [==============================] - 0s 19ms/step\n",
      "1/1 [==============================] - 0s 19ms/step\n",
      "1/1 [==============================] - 0s 19ms/step\n",
      "1/1 [==============================] - 0s 17ms/step\n",
      "1/1 [==============================] - 0s 18ms/step\n",
      "1/1 [==============================] - 0s 18ms/step\n",
      "1/1 [==============================] - 0s 18ms/step\n",
      "1/1 [==============================] - 0s 18ms/step\n",
      "1/1 [==============================] - 0s 20ms/step\n",
      "1/1 [==============================] - 0s 21ms/step\n",
      "1/1 [==============================] - 0s 19ms/step\n",
      "1/1 [==============================] - 0s 24ms/step\n",
      "1/1 [==============================] - 0s 18ms/step\n",
      "1/1 [==============================] - 0s 18ms/step\n",
      "1/1 [==============================] - 0s 20ms/step\n",
      "1/1 [==============================] - 0s 17ms/step\n",
      "1/1 [==============================] - 0s 20ms/step\n",
      "1/1 [==============================] - 0s 19ms/step\n",
      "1/1 [==============================] - 0s 21ms/step\n",
      "1/1 [==============================] - 0s 19ms/step\n",
      "1/1 [==============================] - 0s 23ms/step\n",
      "1/1 [==============================] - 0s 20ms/step\n",
      "1/1 [==============================] - 0s 19ms/step\n",
      "1/1 [==============================] - 0s 32ms/step\n",
      "1/1 [==============================] - 0s 19ms/step\n",
      "1/1 [==============================] - 0s 26ms/step\n",
      "1/1 [==============================] - 0s 18ms/step\n",
      "1/1 [==============================] - 0s 18ms/step\n",
      "1/1 [==============================] - 0s 17ms/step\n",
      "1/1 [==============================] - 0s 18ms/step\n",
      "1/1 [==============================] - 0s 19ms/step\n",
      "1/1 [==============================] - 0s 21ms/step\n",
      "1/1 [==============================] - 0s 19ms/step\n",
      "1/1 [==============================] - 0s 21ms/step\n",
      "1/1 [==============================] - 0s 22ms/step\n",
      "1/1 [==============================] - 0s 18ms/step\n",
      "1/1 [==============================] - 0s 20ms/step\n",
      "1/1 [==============================] - 0s 18ms/step\n",
      "1/1 [==============================] - 0s 20ms/step\n",
      "1/1 [==============================] - 0s 19ms/step\n",
      "1/1 [==============================] - 0s 20ms/step\n",
      "1/1 [==============================] - 0s 23ms/step\n",
      "1/1 [==============================] - 0s 20ms/step\n",
      "1/1 [==============================] - 0s 23ms/step\n",
      "1/1 [==============================] - 0s 19ms/step\n",
      "1/1 [==============================] - 0s 19ms/step\n",
      "1/1 [==============================] - 0s 17ms/step\n",
      "1/1 [==============================] - 0s 17ms/step\n",
      "1/1 [==============================] - 0s 18ms/step\n",
      "1/1 [==============================] - 0s 22ms/step\n",
      "1/1 [==============================] - 0s 19ms/step\n",
      "1/1 [==============================] - 0s 18ms/step\n",
      "1/1 [==============================] - 0s 16ms/step\n",
      "반복 제거 예측 요약문 : 문항 은 ‘ 유산 의 날 행사 기간 ’ 과 관련 된 텍스트 를 찾 아 읽 고 문제 를 풀 기 로 구성 되 어 있 다 . 평가 틀 하위 요소 를 기준 으로 보 았 을 때 , 비 연속 적 인 기술 유형 을 보이 는 텍스트 를 읽 고 해당 정보 에 접근 ․ 확인 해야 한다 .\n",
      "실제 요약문 : 시 의 홈페이지 에서 ‘ 전통문화 의 날 행사 기간 ’ 에 관한 텍스트 를 읽 고 문제 를 풀 게 되 는 과정 에서 학생 들 의 읽 기 과정 요소 에 대한 평가 가 이루어진다 . \n",
      "원문 :  [ 그림 ⅳ - 1 - 2 ] 는 ‘ ’ 의 첫 번 째 문항 을 보여준다 . 이 문항 은 시 의 홈페이지 에서 목표 정보 인 ‘ 전통문화 의 날 행사 기간 ’ 과 관련 된 텍스트 를 찾 아 읽 고 문제 를 푸 는 선다형 문항 이 다 . 그런데 ‘ 전통문화 의 날 행사 기간 ’ 에 관한 정보 는 링크 된 페이지 에 접속 하 지 않 아도 이미 정보 가 노출 되 어 있 기 때문 에 , 학생 들 은 해당 정보 를 화면 에서 찾 기 만 하 면 되 는 간단 한 형태 의 문항 이 다 . 평가 틀 하위 요소 를 기준 으로 보 았 을 때 , 비 연속 적 인 체재 에 기술 유형 을 보이 는 텍스트 를 읽 고 해당 정보 에 ‘ 접근 ․ 확인 ’ 하 는 읽 기 과정 요소 로 구성 되 어 있 다 . \n",
      "\n",
      "\n",
      "1/1 [==============================] - 0s 255ms/step\n",
      "1/1 [==============================] - 0s 26ms/step\n",
      "1/1 [==============================] - 0s 19ms/step\n",
      "1/1 [==============================] - 0s 18ms/step\n",
      "1/1 [==============================] - 0s 21ms/step\n",
      "1/1 [==============================] - 0s 18ms/step\n",
      "1/1 [==============================] - 0s 18ms/step\n",
      "1/1 [==============================] - 0s 19ms/step\n",
      "1/1 [==============================] - 0s 18ms/step\n",
      "1/1 [==============================] - 0s 18ms/step\n",
      "1/1 [==============================] - 0s 19ms/step\n",
      "1/1 [==============================] - 0s 20ms/step\n",
      "1/1 [==============================] - 0s 18ms/step\n",
      "1/1 [==============================] - 0s 17ms/step\n",
      "1/1 [==============================] - 0s 20ms/step\n",
      "1/1 [==============================] - 0s 20ms/step\n",
      "1/1 [==============================] - 0s 19ms/step\n",
      "1/1 [==============================] - 0s 19ms/step\n",
      "1/1 [==============================] - 0s 26ms/step\n",
      "1/1 [==============================] - 0s 20ms/step\n",
      "1/1 [==============================] - 0s 18ms/step\n",
      "1/1 [==============================] - 0s 18ms/step\n",
      "1/1 [==============================] - 0s 20ms/step\n",
      "1/1 [==============================] - 0s 18ms/step\n",
      "1/1 [==============================] - 0s 18ms/step\n",
      "1/1 [==============================] - 0s 18ms/step\n",
      "1/1 [==============================] - 0s 19ms/step\n",
      "1/1 [==============================] - 0s 19ms/step\n",
      "1/1 [==============================] - 0s 18ms/step\n",
      "1/1 [==============================] - 0s 19ms/step\n",
      "1/1 [==============================] - 0s 20ms/step\n",
      "1/1 [==============================] - 0s 21ms/step\n",
      "1/1 [==============================] - 0s 20ms/step\n",
      "1/1 [==============================] - 0s 19ms/step\n",
      "1/1 [==============================] - 0s 18ms/step\n",
      "1/1 [==============================] - 0s 20ms/step\n",
      "1/1 [==============================] - 0s 20ms/step\n",
      "1/1 [==============================] - 0s 21ms/step\n",
      "1/1 [==============================] - 0s 22ms/step\n",
      "1/1 [==============================] - 0s 19ms/step\n",
      "1/1 [==============================] - 0s 30ms/step\n",
      "1/1 [==============================] - 0s 23ms/step\n",
      "1/1 [==============================] - 0s 20ms/step\n",
      "1/1 [==============================] - 0s 24ms/step\n",
      "1/1 [==============================] - 0s 20ms/step\n",
      "1/1 [==============================] - 0s 20ms/step\n",
      "1/1 [==============================] - 0s 19ms/step\n",
      "1/1 [==============================] - 0s 18ms/step\n",
      "1/1 [==============================] - 0s 19ms/step\n",
      "1/1 [==============================] - 0s 18ms/step\n",
      "1/1 [==============================] - 0s 18ms/step\n",
      "1/1 [==============================] - 0s 19ms/step\n",
      "1/1 [==============================] - 0s 18ms/step\n",
      "1/1 [==============================] - 0s 18ms/step\n",
      "1/1 [==============================] - 0s 18ms/step\n",
      "1/1 [==============================] - 0s 18ms/step\n",
      "예측 요약문 :  사회 인구학 적 특성 별 로 는 남녀 차이 는 거의 존재 하 지 않 았 고 , 연령 층 으로 인해 혼인 상태 별 로 는 혼인 상태 별 로 는 혼인 상태 별 로 는 혼인 상태 별 로 는 혼인 상태 별 로 는 혼인 상태 별 로 는 달라진다 .\n",
      "1/1 [==============================] - 0s 256ms/step\n",
      "1/1 [==============================] - 0s 18ms/step\n",
      "1/1 [==============================] - 0s 19ms/step\n",
      "1/1 [==============================] - 0s 18ms/step\n",
      "1/1 [==============================] - 0s 18ms/step\n",
      "1/1 [==============================] - 0s 20ms/step\n",
      "1/1 [==============================] - 0s 23ms/step\n",
      "1/1 [==============================] - 0s 19ms/step\n",
      "1/1 [==============================] - 0s 18ms/step\n",
      "1/1 [==============================] - 0s 19ms/step\n",
      "1/1 [==============================] - 0s 17ms/step\n",
      "1/1 [==============================] - 0s 19ms/step\n",
      "1/1 [==============================] - 0s 19ms/step\n",
      "1/1 [==============================] - 0s 20ms/step\n",
      "1/1 [==============================] - 0s 18ms/step\n",
      "1/1 [==============================] - 0s 19ms/step\n",
      "1/1 [==============================] - 0s 21ms/step\n",
      "1/1 [==============================] - 0s 21ms/step\n",
      "1/1 [==============================] - 0s 21ms/step\n",
      "1/1 [==============================] - 0s 23ms/step\n",
      "1/1 [==============================] - 0s 20ms/step\n",
      "1/1 [==============================] - 0s 20ms/step\n",
      "1/1 [==============================] - 0s 26ms/step\n",
      "1/1 [==============================] - 0s 23ms/step\n",
      "1/1 [==============================] - 0s 22ms/step\n",
      "1/1 [==============================] - 0s 21ms/step\n",
      "1/1 [==============================] - 0s 23ms/step\n",
      "1/1 [==============================] - 0s 23ms/step\n",
      "1/1 [==============================] - 0s 23ms/step\n",
      "1/1 [==============================] - 0s 19ms/step\n",
      "1/1 [==============================] - 0s 26ms/step\n",
      "1/1 [==============================] - 0s 36ms/step\n",
      "1/1 [==============================] - 0s 22ms/step\n",
      "1/1 [==============================] - 0s 19ms/step\n",
      "1/1 [==============================] - 0s 18ms/step\n",
      "1/1 [==============================] - 0s 19ms/step\n",
      "1/1 [==============================] - 0s 20ms/step\n",
      "1/1 [==============================] - 0s 21ms/step\n",
      "1/1 [==============================] - 0s 21ms/step\n",
      "1/1 [==============================] - 0s 22ms/step\n",
      "1/1 [==============================] - 0s 22ms/step\n",
      "1/1 [==============================] - 0s 24ms/step\n",
      "1/1 [==============================] - 0s 21ms/step\n",
      "1/1 [==============================] - 0s 20ms/step\n",
      "1/1 [==============================] - 0s 22ms/step\n",
      "1/1 [==============================] - 0s 20ms/step\n",
      "1/1 [==============================] - 0s 21ms/step\n",
      "1/1 [==============================] - 0s 20ms/step\n",
      "1/1 [==============================] - 0s 20ms/step\n",
      "1/1 [==============================] - 0s 22ms/step\n",
      "1/1 [==============================] - 0s 21ms/step\n",
      "1/1 [==============================] - 0s 19ms/step\n",
      "1/1 [==============================] - 0s 22ms/step\n",
      "1/1 [==============================] - 0s 21ms/step\n",
      "1/1 [==============================] - 0s 21ms/step\n",
      "1/1 [==============================] - 0s 21ms/step\n",
      "반복 제거 예측 요약문 : 사회 인구학 적 특성 별 로 는 남녀 차이 는 거의 존재 하 지 않 았 고 , 연령 층 으로 인해 혼인 상태 별 로 는 혼인 상태 별 로 는 혼인 상태 별 로 는 혼인 상태 별 로 는 혼인 상태 별 로 는 혼인 상태 별 로 는 달라진다 .\n",
      "실제 요약문 : 재난 사고 안전 인식 을 조사 한 결과 성별 에 의한 차이 는 적 었 으나 고 연령 층 , 다양 한 혼인 상태 경험자 , 적 은 가구원 수 일수록 사회 가 재난 사고 로부터 안 전하 다고 답 했 다 . \n",
      "원문 :  우리 사회 가 각 재난 사고 로부터 얼마나 안 전하 다고 생각 하 는지 질문 한 설문 조사 결과 를 분석 하 여 살펴보 면 , 우선 사회 인구학 적 특성 별 로 는 남녀 의 차이 는 거의 존재 하 지 않 았 고 ( 남자 , 여자 각 3 . 02 점 , 3 . 01 점 ) , 연령 에 따라서 는 60 세 이상 의 고 연령 층 으로 갈수록 ( 2 . 84 점 ) , 혼인 상태 별 로 는 이혼 , 별거 , 사별 등 을 겪 은 사람 인 경우 ( 2 . 83 점 ) , 가구 원수 는 1 인 으로 갈수록 ( 2 . 83 점 ) 보다 사회 가 재난 사고 로부터 안 전하 다고 인식 하 는 것 으로 나타났 다 . 다만 각 변인 별 차이 가 통계 적 으로 유의미 한 경우 는 연령 에 대해서 만 나타났 다 ( f = 2 . 68 , p <. 05 ) . \n",
      "\n",
      "\n",
      "1/1 [==============================] - 0s 270ms/step\n",
      "1/1 [==============================] - 0s 18ms/step\n",
      "1/1 [==============================] - 0s 18ms/step\n",
      "1/1 [==============================] - 0s 19ms/step\n",
      "1/1 [==============================] - 0s 17ms/step\n",
      "1/1 [==============================] - 0s 17ms/step\n",
      "1/1 [==============================] - 0s 16ms/step\n",
      "1/1 [==============================] - 0s 16ms/step\n",
      "1/1 [==============================] - 0s 17ms/step\n",
      "1/1 [==============================] - 0s 18ms/step\n",
      "1/1 [==============================] - 0s 21ms/step\n",
      "1/1 [==============================] - 0s 29ms/step\n",
      "1/1 [==============================] - 0s 18ms/step\n",
      "1/1 [==============================] - 0s 19ms/step\n",
      "1/1 [==============================] - 0s 16ms/step\n",
      "1/1 [==============================] - 0s 16ms/step\n",
      "1/1 [==============================] - 0s 17ms/step\n",
      "1/1 [==============================] - 0s 16ms/step\n",
      "1/1 [==============================] - 0s 19ms/step\n",
      "1/1 [==============================] - 0s 18ms/step\n",
      "1/1 [==============================] - 0s 17ms/step\n",
      "1/1 [==============================] - 0s 17ms/step\n",
      "1/1 [==============================] - 0s 17ms/step\n",
      "1/1 [==============================] - 0s 17ms/step\n",
      "1/1 [==============================] - 0s 17ms/step\n",
      "1/1 [==============================] - 0s 19ms/step\n",
      "1/1 [==============================] - 0s 32ms/step\n",
      "1/1 [==============================] - 0s 24ms/step\n",
      "1/1 [==============================] - 0s 17ms/step\n",
      "1/1 [==============================] - 0s 17ms/step\n",
      "1/1 [==============================] - 0s 18ms/step\n",
      "1/1 [==============================] - 0s 18ms/step\n",
      "1/1 [==============================] - 0s 18ms/step\n",
      "1/1 [==============================] - 0s 18ms/step\n",
      "1/1 [==============================] - 0s 20ms/step\n",
      "1/1 [==============================] - 0s 20ms/step\n",
      "1/1 [==============================] - 0s 18ms/step\n",
      "1/1 [==============================] - 0s 17ms/step\n",
      "1/1 [==============================] - 0s 17ms/step\n",
      "1/1 [==============================] - 0s 19ms/step\n",
      "1/1 [==============================] - 0s 18ms/step\n",
      "1/1 [==============================] - 0s 18ms/step\n",
      "1/1 [==============================] - 0s 20ms/step\n",
      "1/1 [==============================] - 0s 27ms/step\n",
      "1/1 [==============================] - 0s 26ms/step\n",
      "1/1 [==============================] - 0s 18ms/step\n",
      "1/1 [==============================] - 0s 18ms/step\n",
      "1/1 [==============================] - 0s 17ms/step\n",
      "1/1 [==============================] - 0s 17ms/step\n",
      "1/1 [==============================] - 0s 18ms/step\n",
      "1/1 [==============================] - 0s 18ms/step\n",
      "1/1 [==============================] - 0s 20ms/step\n",
      "1/1 [==============================] - 0s 17ms/step\n",
      "1/1 [==============================] - 0s 19ms/step\n",
      "1/1 [==============================] - 0s 18ms/step\n",
      "1/1 [==============================] - 0s 17ms/step\n",
      "1/1 [==============================] - 0s 17ms/step\n",
      "1/1 [==============================] - 0s 18ms/step\n",
      "1/1 [==============================] - 0s 17ms/step\n",
      "1/1 [==============================] - 0s 17ms/step\n",
      "예측 요약문 :  청소년 의 노동 조건 은 청소년 의 생활 을 보장 하 기 위해 ‘ 위기 청소년 ’ 의 ‘ 생계 형 ’ 이유 가 가장 높 고 , 청소년 은 60 % 이상 이 다 . 청소년 은 60 % 이상 이 며 , 청소년 은 아르바이트 경험 률 은 약 45 % 로 낮 았 다 .\n",
      "1/1 [==============================] - 0s 247ms/step\n",
      "1/1 [==============================] - 0s 17ms/step\n",
      "1/1 [==============================] - 0s 19ms/step\n",
      "1/1 [==============================] - 0s 19ms/step\n",
      "1/1 [==============================] - 0s 17ms/step\n",
      "1/1 [==============================] - 0s 17ms/step\n",
      "1/1 [==============================] - 0s 18ms/step\n",
      "1/1 [==============================] - 0s 18ms/step\n",
      "1/1 [==============================] - 0s 17ms/step\n",
      "1/1 [==============================] - 0s 17ms/step\n",
      "1/1 [==============================] - 0s 18ms/step\n",
      "1/1 [==============================] - 0s 18ms/step\n",
      "1/1 [==============================] - 0s 19ms/step\n",
      "1/1 [==============================] - 0s 19ms/step\n",
      "1/1 [==============================] - 0s 19ms/step\n",
      "1/1 [==============================] - 0s 30ms/step\n",
      "1/1 [==============================] - 0s 17ms/step\n",
      "1/1 [==============================] - 0s 17ms/step\n",
      "1/1 [==============================] - 0s 37ms/step\n",
      "1/1 [==============================] - 0s 17ms/step\n",
      "1/1 [==============================] - 0s 17ms/step\n",
      "1/1 [==============================] - 0s 17ms/step\n",
      "1/1 [==============================] - 0s 18ms/step\n",
      "1/1 [==============================] - 0s 17ms/step\n",
      "1/1 [==============================] - 0s 18ms/step\n",
      "1/1 [==============================] - 0s 18ms/step\n",
      "1/1 [==============================] - 0s 17ms/step\n",
      "1/1 [==============================] - 0s 18ms/step\n",
      "1/1 [==============================] - 0s 18ms/step\n",
      "1/1 [==============================] - 0s 17ms/step\n",
      "1/1 [==============================] - 0s 18ms/step\n",
      "1/1 [==============================] - 0s 17ms/step\n",
      "1/1 [==============================] - 0s 18ms/step\n",
      "1/1 [==============================] - 0s 18ms/step\n",
      "1/1 [==============================] - 0s 19ms/step\n",
      "1/1 [==============================] - 0s 18ms/step\n",
      "1/1 [==============================] - 0s 19ms/step\n",
      "1/1 [==============================] - 0s 20ms/step\n",
      "1/1 [==============================] - 0s 19ms/step\n",
      "1/1 [==============================] - 0s 19ms/step\n",
      "1/1 [==============================] - 0s 19ms/step\n",
      "1/1 [==============================] - 0s 17ms/step\n",
      "1/1 [==============================] - 0s 19ms/step\n",
      "1/1 [==============================] - 0s 19ms/step\n",
      "1/1 [==============================] - 0s 30ms/step\n",
      "1/1 [==============================] - 0s 21ms/step\n",
      "1/1 [==============================] - 0s 18ms/step\n",
      "1/1 [==============================] - 0s 19ms/step\n",
      "1/1 [==============================] - 0s 18ms/step\n",
      "1/1 [==============================] - 0s 19ms/step\n",
      "1/1 [==============================] - 0s 20ms/step\n",
      "1/1 [==============================] - 0s 16ms/step\n",
      "1/1 [==============================] - 0s 18ms/step\n",
      "1/1 [==============================] - 0s 19ms/step\n",
      "1/1 [==============================] - 0s 18ms/step\n",
      "1/1 [==============================] - 0s 16ms/step\n",
      "1/1 [==============================] - 0s 18ms/step\n",
      "1/1 [==============================] - 0s 18ms/step\n",
      "1/1 [==============================] - 0s 18ms/step\n",
      "1/1 [==============================] - 0s 18ms/step\n",
      "반복 제거 예측 요약문 : 청소년 의 노동 조건 은 청소년 의 생활 을 보장 하 기 위해 ‘ 위기 청소년 ’ 의 ‘ 생계 형 ’ 이유 가 가장 높 고 , 청소년 은 60 % 이상 이 다 . 청소년 은 60 % 이상 이 며 , 청소년 은 아르바이트 경험 률 은 약 45 % 로 낮 았 다 .\n",
      "실제 요약문 : 위기 청소년 의 알바 환경 은 더욱 열악 하 다 . 이 들 은 지원 이 부족 하 여 필수 적 으로 생계 형 알 바 를 할 수 밖 에 없 는 상황 이 다 . \n",
      "원문 :  이른바 ‘ 위기 청소년 ’ 의 알바 노동 조건 은 훨씬 더 심각 하 다 . 이 들 은 60 % 이상 이 알 바 경험 이 있 다 . 무엇 보다 도 자신 들 의 생활 을 꾸려 가 기 위해서 알 바 를 할 수 밖 에 없 는 상태 이 다 . 2016 년 조사 에 따르 면 , 아르바이트 경험 이 있 는 청소년 은 60 . 4 % 에 달해 , 과반 이상 이 일 을 하 고 있 다 . 보호관찰 대상 청소년 의 아르바이트 경험 률 은 69 . 0 % 로 10 에 7 명 이 일 을 하 고 있 다 . 아르바이트 를 하 는 주 된 이유 를 보 면 , ‘ 내 가 원 하 는 것 을 하 기 에 돈 이 부족 해서 ’ 라는 응답 이 33 . 2 % 로 가장 높 고 , ‘ 부모 님 ( 보호자 ) 께 용돈 을 받 을 형편 이 아니 라서 ’ 22 . 4 %, ‘ 가족 의 형편 이 어려워 내 가 생활비 를 벌 어야 하 기 때문 에 ’ 11 . 9 % 등 가정 형편 상 불가피 하 게 아르바이트 를 해야 하 는 ‘ 생계 형 ’ 이유 가 34 . 3 % 를 차지 한다 . \n",
      "\n",
      "\n",
      "1/1 [==============================] - 0s 263ms/step\n",
      "1/1 [==============================] - 0s 17ms/step\n",
      "1/1 [==============================] - 0s 20ms/step\n",
      "1/1 [==============================] - 0s 18ms/step\n",
      "1/1 [==============================] - 0s 18ms/step\n",
      "1/1 [==============================] - 0s 16ms/step\n",
      "1/1 [==============================] - 0s 17ms/step\n",
      "1/1 [==============================] - 0s 35ms/step\n",
      "1/1 [==============================] - 0s 18ms/step\n",
      "1/1 [==============================] - 0s 17ms/step\n",
      "1/1 [==============================] - 0s 24ms/step\n",
      "1/1 [==============================] - 0s 17ms/step\n",
      "1/1 [==============================] - 0s 16ms/step\n",
      "1/1 [==============================] - 0s 17ms/step\n",
      "1/1 [==============================] - 0s 18ms/step\n",
      "1/1 [==============================] - 0s 19ms/step\n",
      "1/1 [==============================] - 0s 18ms/step\n",
      "1/1 [==============================] - 0s 17ms/step\n",
      "1/1 [==============================] - 0s 18ms/step\n",
      "1/1 [==============================] - 0s 18ms/step\n",
      "1/1 [==============================] - 0s 18ms/step\n",
      "1/1 [==============================] - 0s 17ms/step\n",
      "1/1 [==============================] - 0s 17ms/step\n",
      "1/1 [==============================] - 0s 18ms/step\n",
      "1/1 [==============================] - 0s 18ms/step\n",
      "1/1 [==============================] - 0s 16ms/step\n",
      "1/1 [==============================] - 0s 16ms/step\n",
      "1/1 [==============================] - 0s 17ms/step\n",
      "1/1 [==============================] - 0s 16ms/step\n",
      "1/1 [==============================] - 0s 19ms/step\n",
      "1/1 [==============================] - 0s 17ms/step\n",
      "1/1 [==============================] - 0s 18ms/step\n",
      "1/1 [==============================] - 0s 16ms/step\n",
      "1/1 [==============================] - 0s 17ms/step\n",
      "1/1 [==============================] - 0s 17ms/step\n",
      "1/1 [==============================] - 0s 17ms/step\n",
      "1/1 [==============================] - 0s 28ms/step\n",
      "1/1 [==============================] - 0s 20ms/step\n",
      "1/1 [==============================] - 0s 20ms/step\n",
      "1/1 [==============================] - 0s 20ms/step\n",
      "1/1 [==============================] - 0s 19ms/step\n",
      "1/1 [==============================] - 0s 19ms/step\n",
      "1/1 [==============================] - 0s 20ms/step\n",
      "1/1 [==============================] - 0s 21ms/step\n",
      "1/1 [==============================] - 0s 21ms/step\n",
      "1/1 [==============================] - 0s 20ms/step\n",
      "1/1 [==============================] - 0s 22ms/step\n",
      "1/1 [==============================] - 0s 21ms/step\n",
      "1/1 [==============================] - 0s 19ms/step\n",
      "1/1 [==============================] - 0s 26ms/step\n",
      "1/1 [==============================] - 0s 17ms/step\n",
      "1/1 [==============================] - 0s 17ms/step\n",
      "1/1 [==============================] - 0s 17ms/step\n",
      "1/1 [==============================] - 0s 18ms/step\n",
      "1/1 [==============================] - 0s 20ms/step\n",
      "예측 요약문 :  아동 대상 사업 수행 대상 은 아동 대상 사업 의 내용 에 는 기관 별 차이 가 있 었 으며 , 아동 대상 사업 의 내용 에 는 기관 별 차이 가 있 었 으며 , 이 는 아동 대상 사업 의 내용 에 는 기관 별 차이 가 있 었 다 .\n",
      "1/1 [==============================] - 0s 241ms/step\n",
      "1/1 [==============================] - 0s 18ms/step\n",
      "1/1 [==============================] - 0s 17ms/step\n",
      "1/1 [==============================] - 0s 17ms/step\n",
      "1/1 [==============================] - 0s 18ms/step\n",
      "1/1 [==============================] - 0s 17ms/step\n",
      "1/1 [==============================] - 0s 22ms/step\n",
      "1/1 [==============================] - 0s 17ms/step\n",
      "1/1 [==============================] - 0s 17ms/step\n",
      "1/1 [==============================] - 0s 18ms/step\n",
      "1/1 [==============================] - 0s 19ms/step\n",
      "1/1 [==============================] - 0s 16ms/step\n",
      "1/1 [==============================] - 0s 18ms/step\n",
      "1/1 [==============================] - 0s 20ms/step\n",
      "1/1 [==============================] - 0s 18ms/step\n",
      "1/1 [==============================] - 0s 18ms/step\n",
      "1/1 [==============================] - 0s 19ms/step\n",
      "1/1 [==============================] - 0s 17ms/step\n",
      "1/1 [==============================] - 0s 16ms/step\n",
      "1/1 [==============================] - 0s 16ms/step\n",
      "1/1 [==============================] - 0s 17ms/step\n",
      "1/1 [==============================] - 0s 16ms/step\n",
      "1/1 [==============================] - 0s 18ms/step\n",
      "1/1 [==============================] - 0s 19ms/step\n",
      "1/1 [==============================] - 0s 18ms/step\n",
      "1/1 [==============================] - 0s 18ms/step\n",
      "1/1 [==============================] - 0s 16ms/step\n",
      "1/1 [==============================] - 0s 17ms/step\n",
      "1/1 [==============================] - 0s 17ms/step\n",
      "1/1 [==============================] - 0s 16ms/step\n",
      "1/1 [==============================] - 0s 17ms/step\n",
      "1/1 [==============================] - 0s 27ms/step\n",
      "1/1 [==============================] - 0s 17ms/step\n",
      "1/1 [==============================] - 0s 18ms/step\n",
      "1/1 [==============================] - 0s 16ms/step\n",
      "1/1 [==============================] - 0s 18ms/step\n",
      "1/1 [==============================] - 0s 25ms/step\n",
      "1/1 [==============================] - 0s 19ms/step\n",
      "1/1 [==============================] - 0s 19ms/step\n",
      "1/1 [==============================] - 0s 17ms/step\n",
      "1/1 [==============================] - 0s 17ms/step\n",
      "1/1 [==============================] - 0s 17ms/step\n",
      "1/1 [==============================] - 0s 17ms/step\n",
      "1/1 [==============================] - 0s 18ms/step\n",
      "1/1 [==============================] - 0s 17ms/step\n",
      "1/1 [==============================] - 0s 19ms/step\n",
      "1/1 [==============================] - 0s 17ms/step\n",
      "1/1 [==============================] - 0s 16ms/step\n",
      "1/1 [==============================] - 0s 17ms/step\n",
      "1/1 [==============================] - 0s 17ms/step\n",
      "1/1 [==============================] - 0s 19ms/step\n",
      "1/1 [==============================] - 0s 16ms/step\n",
      "1/1 [==============================] - 0s 17ms/step\n",
      "1/1 [==============================] - 0s 17ms/step\n",
      "1/1 [==============================] - 0s 26ms/step\n",
      "반복 제거 예측 요약문 : 아동 대상 사업 수행 대상 은 아동 대상 사업 의 내용 에 는 기관 별 차이 가 있 었 으며 , 아동 대상 사업 의 내용 에 는 기관 별 차이 가 있 었 으며 , 이 는 아동 대상 사업 의 내용 에 는 기관 별 차이 가 있 었 다 .\n",
      "실제 요약문 : 이 프로그램 의 대상 은 여성 등 다양 한 계층 이 참여 할 수 있 으나 보통 아동 맞춤 이 다 . 우선 대상 국 아동 의 필요 에 반응 하 여 시급 한 인프라 를 제공 하 며 낙후 된 지역 일수록 효과 가 있 다 . \n",
      "원문 :  이 처럼 , 실제 사업 수행 의 대상 은 여성 을 포함 해 다양 할 수 있 겠 으나 대부분 은 아동 에 초점 이 맞추 어 져 있 음 을 조사 에서 확인 할 수 있 었 는데 , 아동 을 대상 으로 하 는 사업 의 내용 에 는 기관 별 차이 가 있 었 으며 , 이 는 대략 세 가지 로 구분 이 가능 하 다 . 첫 번 째 는 사업 수행 대상 국 일정 지역 아동 의 즉각 적 필요 에 반응 하 여 일차 적 으로 시급 한 모든 인프라 를 제공 하 는 형태 이 다 . 이러 한 유형 은 낙후 된 지역 일수록 더욱 적합 한 것 으로 보이 는데 , 우선 적 으로 아동 이 학교 에 접근 할 수 있 도록 시설 건립 등 인프라 를 구축 하 는 것 이 주류 를 이루 고 , 생존 에 요구 되 는 기본 적 지원 이 함께 뒤따르 는 경우 도 있 는데 사례 들 은 다음 과 같 다 . \n",
      "\n",
      "\n"
     ]
    }
   ],
   "source": [
    "for i in range(5):\n",
    "    print(\"예측 요약문 :\", decode_sequence(encoder_input_test[i].reshape(1, text_max_len)))\n",
    "    result = remove_repeated_words(decode_sequence(encoder_input_test[i].reshape(1, text_max_len)))\n",
    "    print(\"반복 제거 예측 요약문 :\", result)\n",
    "    print(\"실제 요약문 :\",seq2summary(decoder_input_test[i]))\n",
    "    print(\"원문 : \",seq2text(encoder_input_test[i]))\n",
    "    print(\"\\n\")"
   ]
  },
  {
   "cell_type": "code",
   "execution_count": 106,
   "metadata": {},
   "outputs": [
    {
     "name": "stdout",
     "output_type": "stream",
     "text": [
      "{'ROUGE-1 Recall': 0.5, 'ROUGE-1 Precision': 0.375, 'ROUGE-2 Recall': 0.4, 'ROUGE-2 Precision': 0.2857142857142857}\n"
     ]
    }
   ],
   "source": [
    "from nltk.translate.bleu_score import sentence_bleu\n",
    "from nltk.translate.bleu_score import SmoothingFunction\n",
    "\n",
    "def calculate_rouge(hypothesis, reference):\n",
    "    # Split sentences into lists of words\n",
    "    hypothesis = hypothesis.split()\n",
    "    reference = reference.split()\n",
    "\n",
    "    # Calculate ROUGE-1 (unigram overlap)\n",
    "    overlap = set(hypothesis) & set(reference)\n",
    "    rouge_1_recall = len(overlap) / len(reference)\n",
    "    rouge_1_precision = len(overlap) / len(hypothesis)\n",
    "\n",
    "    # Calculate ROUGE-2 (bigram overlap)\n",
    "    hypothesis_bigrams = list(zip(hypothesis, hypothesis[1:]))\n",
    "    reference_bigrams = list(zip(reference, reference[1:]))\n",
    "    overlap_bigrams = set(hypothesis_bigrams) & set(reference_bigrams)\n",
    "    rouge_2_recall = len(overlap_bigrams) / len(reference_bigrams)\n",
    "    rouge_2_precision = len(overlap_bigrams) / len(hypothesis_bigrams)\n",
    "\n",
    "    return {\n",
    "        \"ROUGE-1 Recall\": rouge_1_recall,\n",
    "        \"ROUGE-1 Precision\": rouge_1_precision,\n",
    "        \"ROUGE-2 Recall\": rouge_2_recall,\n",
    "        \"ROUGE-2 Precision\": rouge_2_precision\n",
    "    }\n",
    "\n",
    "# Example usage\n",
    "human_summary = \"This is a sample reference summary.\"\n",
    "model_summary = \"This is a generated summary by the model.\"\n",
    "\n",
    "rouge_scores = calculate_rouge(model_summary, human_summary)\n",
    "print(rouge_scores)\n"
   ]
  },
  {
   "cell_type": "code",
   "execution_count": 108,
   "metadata": {},
   "outputs": [
    {
     "name": "stdout",
     "output_type": "stream",
     "text": [
      "BLEU Score: 0.04278088701368624\n"
     ]
    }
   ],
   "source": [
    "import nltk\n",
    "from nltk.translate.bleu_score import sentence_bleu, SmoothingFunction\n",
    "\n",
    "def calculate_bleu(hypothesis, reference):\n",
    "    # Split sentences into lists of words\n",
    "    hypothesis = hypothesis.split()\n",
    "    reference = reference.split()\n",
    "\n",
    "    # Smoothing function to handle zero-division\n",
    "    smoothie = SmoothingFunction().method4\n",
    "\n",
    "    # Calculate BLEU score with 4-gram\n",
    "    bleu_score = sentence_bleu([reference], hypothesis, smoothing_function=smoothie, weights=(0.25, 0.25, 0.25, 0.25))\n",
    "\n",
    "    return bleu_score\n",
    "\n",
    "# Example usage\n",
    "human_summary = \"위기 청소년 의 알바 환경 은 더욱 열악 하 다 . 이 들 은 지원 이 부족 하 여 필수 적 으로 생계 형 알 바 를 할 수 밖 에 없 는 상황 이 다 . \"\n",
    "model_summary = \"청소년 의 노동 조건 은 청소년 의 생활 을 보장 하 기 위해 ‘ 위기 청소년 ’ 의 ‘ 생계 형 ’ 이유 가 가장 높 고 , 청소년 은 60 % 이상 이 다 . 청소년 은 60 % 이상 이 며 , 청소년 은 아르바이트 경험 률 은 약 45 % 로 낮 았 다 .\"\n",
    "\n",
    "bleu_score = calculate_bleu(model_summary, human_summary)\n",
    "print(\"BLEU Score:\", bleu_score)\n"
   ]
  },
  {
   "cell_type": "code",
   "execution_count": null,
   "metadata": {},
   "outputs": [],
   "source": []
  },
  {
   "cell_type": "code",
   "execution_count": 7,
   "metadata": {},
   "outputs": [],
   "source": [
    "# 데이터 전처리\n",
    "\n",
    "def word_to_jamo(token):\n",
    "    def to_special_token(jamo):\n",
    "        if not jamo:\n",
    "            return '-'\n",
    "        else:\n",
    "            return jamo\n",
    "\n",
    "    decomposed_token = ''\n",
    "    for char in token:\n",
    "        try:\n",
    "            # char를 초성/중성/종성으로 분리\n",
    "            cho, jung, jong = hgtk.letter.decompose(char)\n",
    "\n",
    "            # 자모가 빈 문자일 경우 >> 특수문자( - )로 대체\n",
    "            cho  = to_special_token(cho)\n",
    "            jung = to_special_token(jung)\n",
    "            jong = to_special_token(jong)\n",
    "\n",
    "            decomposed_token = decomposed_token + cho +jung +jong\n",
    "\n",
    "        except Exception as exception:\n",
    "            if type(exception).__name__ == 'NotHangulException':\n",
    "                decomposed_token += char\n",
    "                # 만약 char(음절)이 한글이 아닐 경우 >> 자모로 나누지 않고 추가\n",
    "\n",
    "    return decomposed_token"
   ]
  },
  {
   "cell_type": "code",
   "execution_count": 26,
   "metadata": {},
   "outputs": [],
   "source": [
    "def tokenized_by_jamo(morphs):\n",
    "    return [word_to_jamo(token) for token in morphs]"
   ]
  },
  {
   "cell_type": "code",
   "execution_count": 39,
   "metadata": {},
   "outputs": [],
   "source": [
    "a = tokenized_by_jamo(df['passage_morphs'][0])"
   ]
  },
  {
   "cell_type": "code",
   "execution_count": 51,
   "metadata": {},
   "outputs": [
    {
     "data": {
      "text/plain": [
       "['ㅈㅣ-ㄱㅡㅁ',\n",
       " 'ㅇㅢ-',\n",
       " 'ㄱㅜㄱㄱㅏ-',\n",
       " 'ㄱㅏ-',\n",
       " 'ㅈㅣㄱㅁㅕㄴ',\n",
       " 'ㅎㅏ-',\n",
       " 'ㄴㅡㄴ',\n",
       " 'ㅇㅟ-ㄱㅣ-',\n",
       " 'ㄴㅡㄴ',\n",
       " 'ㅈㅓㄴㅌㅗㅇ',\n",
       " 'ㅅㅏ-ㅎㅚ-',\n",
       " 'ㅇㅢ-',\n",
       " 'ㄱㅡ-ㄱㅓㅅ',\n",
       " 'ㄱㅘ-',\n",
       " 'ㅇㅟ-ㄱㅣ-',\n",
       " 'ㅇㅢ-',\n",
       " 'ㄱㅠ-ㅁㅗ-',\n",
       " 'ㅃㅜㄴ',\n",
       " 'ㅁㅏㄴ',\n",
       " 'ㅇㅏ-ㄴㅣ-',\n",
       " 'ㄹㅏ-',\n",
       " 'ㅈㅗㅇㄹㅠ-',\n",
       " 'ㅇㅘ-',\n",
       " 'ㅅㅓㅇㅈㅣㄹ',\n",
       " 'ㅁㅕㄴ',\n",
       " 'ㅇㅔ-ㅅㅓ-',\n",
       " 'ㅅㅏ-ㅁㅜㅅ',\n",
       " 'ㄷㅏ-ㄹㅡ-',\n",
       " 'ㄷㅏ-ㄱㅗ-',\n",
       " 'ㅎㅏㄹ',\n",
       " 'ㅅㅜ-',\n",
       " 'ㅇㅣㅆ',\n",
       " 'ㄷㅏ-',\n",
       " '.',\n",
       " 'ㅈㅡㄱ',\n",
       " 'ㅎㅕㄴㄷㅐ-',\n",
       " 'ㅅㅏ-ㅎㅚ-',\n",
       " 'ㅇㅔ-ㅅㅓ-',\n",
       " 'ㄴㅡㄴ',\n",
       " 'ㅁㅐ-ㅇㅜ-',\n",
       " 'ㄷㅏ-ㅇㅑㅇ',\n",
       " 'ㅎㅏ-',\n",
       " 'ㄱㅗ-',\n",
       " 'ㄱㅘㅇㅂㅓㅁㅇㅟ-',\n",
       " 'ㅎㅏ-',\n",
       " 'ㄱㅔ-',\n",
       " 'ㅇㅟ-ㄱㅣ-',\n",
       " 'ㄱㅏ-',\n",
       " 'ㅂㅏㄹㅅㅐㅇ',\n",
       " 'ㅎㅏㄹ',\n",
       " 'ㅃㅜㄴ',\n",
       " 'ㅁㅏㄴ',\n",
       " 'ㅇㅏ-ㄴㅣ-',\n",
       " 'ㄹㅏ-',\n",
       " 'ㅈㅣ-',\n",
       " 'ㄱㅜ-',\n",
       " 'ㅇㅗㄴㄴㅏㄴ',\n",
       " 'ㅎㅘ-',\n",
       " 'ㅇㅔ-',\n",
       " 'ㄸㅏ-ㄹㅡㄴ',\n",
       " 'ㄱㅏㄱㅈㅗㅇ',\n",
       " 'ㅈㅏ-ㅇㅕㄴㅈㅐ-ㅎㅐ-',\n",
       " 'ㄹㅗ-ㅂㅜ-ㅌㅓ-',\n",
       " 'ㅇㅣㄴㅇㅟ-',\n",
       " 'ㅈㅓㄱ',\n",
       " 'ㅈㅐ-ㄴㅏㄴ',\n",
       " 'ㅇㅣㄴ',\n",
       " 'ㅅㅏ-ㅎㅚ-',\n",
       " 'ㅈㅓㄱ',\n",
       " 'ㅇㅣ-ㅅㅠ-',\n",
       " 'ㄹㅗ-',\n",
       " 'ㅇㅣㄴㅎㅏㄴ',\n",
       " 'ㅇㅟ-ㄱㅣ-',\n",
       " 'ㅇㅔ-',\n",
       " 'ㅇㅣ-ㄹㅡ-',\n",
       " 'ㄱㅣ-',\n",
       " 'ㄲㅏ-ㅈㅣ-',\n",
       " 'ㅂㅗㄱㅈㅏㅂ',\n",
       " 'ㅎㅏㄴ',\n",
       " 'ㅇㅑㅇㅅㅏㅇ',\n",
       " 'ㅇㅡㄹ',\n",
       " 'ㅂㅗ-ㅇㅣ-',\n",
       " 'ㄱㅗ-',\n",
       " 'ㅇㅣㅆ',\n",
       " 'ㄷㅏ-',\n",
       " '.',\n",
       " 'ㄸㅏ-ㄹㅏ-ㅅㅓ-',\n",
       " 'ㅇㅟ-ㄱㅣ-',\n",
       " 'ㅇㅢ-',\n",
       " 'ㅇㅕㅇㅎㅑㅇ',\n",
       " 'ㅇㅡㄴ',\n",
       " 'ㅎㅏㄴ',\n",
       " 'ㅅㅏㄴㅇㅓㅂ',\n",
       " 'ㅃㅜㄴ',\n",
       " 'ㅁㅏㄴ',\n",
       " 'ㅇㅏ-ㄴㅣ-',\n",
       " 'ㄹㅏ-',\n",
       " 'ㄱㅜㄱㄱㅏ-',\n",
       " 'ㅇㅢ-',\n",
       " 'ㅈㅐ-ㄴㅏㄴ',\n",
       " 'ㅇㅡ-ㄹㅗ-',\n",
       " 'ㅇㅣ-ㅇㅓ-ㅈㅣ-',\n",
       " 'ㄴㅡㄴ',\n",
       " 'ㄱㅕㅇㅇㅜ-',\n",
       " 'ㄱㅏ-',\n",
       " 'ㅁㅏㄶ',\n",
       " 'ㄷㅏ-',\n",
       " '.',\n",
       " 'ㄸㅏ-ㄹㅏ-ㅅㅓ-',\n",
       " 'ㄱㅜㄱㄱㅏ-',\n",
       " 'ㄴㅡㄴ',\n",
       " 'ㅇㅣ-ㄹㅓ-',\n",
       " 'ㅎㅏㄴ',\n",
       " 'ㅇㅟ-ㄱㅣ-',\n",
       " 'ㅅㅏㅇㅎㅘㅇ',\n",
       " 'ㅇㅣ-',\n",
       " 'ㅂㅏㄹㅅㅐㅇ',\n",
       " 'ㅎㅏ-',\n",
       " 'ㅇㅕㅆㅇㅡㄹ',\n",
       " 'ㄱㅕㅇㅇㅜ-',\n",
       " 'ㅇㅔ-',\n",
       " 'ㄱㅡ-',\n",
       " 'ㅈㅣㅇㅎㅜ-',\n",
       " 'ㄹㅡㄹ',\n",
       " 'ㅃㅏㄹㄹㅣ-',\n",
       " 'ㅍㅏ-ㅇㅏㄱ',\n",
       " 'ㅎㅏ-',\n",
       " 'ㄱㅗ-',\n",
       " 'ㄷㅐ-ㅇㅡㅇ',\n",
       " 'ㅎㅏ-',\n",
       " 'ㅈㅣ-',\n",
       " 'ㅇㅏㄶ',\n",
       " 'ㅇㅡ-ㅁㅕㄴ',\n",
       " 'ㅇㅏㄴ',\n",
       " 'ㄷㅚ-',\n",
       " 'ㄴㅡㄴㄷㅔ-',\n",
       " ',',\n",
       " 'ㄱㅜㄱㅁㅣㄴ',\n",
       " 'ㅇㅢ-',\n",
       " 'ㅅㅐㅇㅁㅕㅇ',\n",
       " 'ㄱㅘ-',\n",
       " 'ㅈㅐ-ㅅㅏㄴ',\n",
       " 'ㅇㅡㄹ',\n",
       " 'ㅂㅗ-ㅎㅗ-',\n",
       " 'ㅎㅏ-',\n",
       " 'ㄴㅡㄴ',\n",
       " 'ㄱㅓㅅ',\n",
       " 'ㅇㅣ-',\n",
       " 'ㅂㅏ-ㄹㅗ-',\n",
       " 'ㄱㅜㄱㄱㅏ-',\n",
       " 'ㅇㅢ-',\n",
       " 'ㄱㅏ-ㅈㅏㅇ',\n",
       " 'ㄱㅣ-ㅂㅗㄴ',\n",
       " 'ㅈㅓㄱ',\n",
       " 'ㅇㅣㄴ',\n",
       " 'ㅇㅢ-ㅁㅜ-',\n",
       " 'ㅇㅣ-',\n",
       " 'ㄱㅣ-',\n",
       " 'ㄸㅐ-ㅁㅜㄴ',\n",
       " 'ㅇㅣ-',\n",
       " 'ㄷㅏ-',\n",
       " '.']"
      ]
     },
     "execution_count": 51,
     "metadata": {},
     "output_type": "execute_result"
    }
   ],
   "source": [
    "a"
   ]
  },
  {
   "cell_type": "code",
   "execution_count": 57,
   "metadata": {},
   "outputs": [
    {
     "name": "stdout",
     "output_type": "stream",
     "text": [
      "{'ㄱ': 42, 'ㄲ': 43, 'ㄴ': 45, 'ㄷ': 48, 'ㄸ': 6, 'ㄹ': 49, 'ㅁ': 57, 'ㅂ': 58, 'ㅃ': 10, 'ㅅ': 60, 'ㅆ': 61, 'ㅇ': 62, 'ㅈ': 63, 'ㅉ': 15, 'ㅊ': 64, 'ㅋ': 65, 'ㅌ': 66, 'ㅍ': 67, 'ㅎ': 68, 'ㅏ': 21, 'ㅐ': 22, 'ㅑ': 23, 'ㅒ': 24, 'ㅓ': 25, 'ㅔ': 26, 'ㅕ': 27, 'ㅖ': 28, 'ㅗ': 29, 'ㅘ': 30, 'ㅙ': 31, 'ㅚ': 32, 'ㅛ': 33, 'ㅜ': 34, 'ㅝ': 35, 'ㅞ': 36, 'ㅟ': 37, 'ㅠ': 38, 'ㅡ': 39, 'ㅢ': 40, 'ㅣ': 41, 'ㄳ': 44, 'ㄵ': 46, 'ㄶ': 47, 'ㄺ': 50, 'ㄻ': 51, 'ㄼ': 52, 'ㄽ': 53, 'ㄾ': 54, 'ㄿ': 55, 'ㅀ': 56, 'ㅄ': 59, ' ': 69, '-': 70}\n"
     ]
    }
   ],
   "source": [
    "# 한글 초성, 중성, 종성의 자모 정의\n",
    "chosungs = list('ㄱㄲㄴㄷㄸㄹㅁㅂㅃㅅㅆㅇㅈㅉㅊㅋㅌㅍㅎ') # 19\n",
    "jungsungs = list('ㅏㅐㅑㅒㅓㅔㅕㅖㅗㅘㅙㅚㅛㅜㅝㅞㅟㅠㅡㅢㅣ') # 21\n",
    "jongsungs = list('ㄱㄲㄳㄴㄵㄶㄷㄹㄺㄻㄼㄽㄾㄿㅀㅁㅂㅄㅅㅆㅇㅈㅊㅋㅌㅍㅎ') # 28\n",
    "\n",
    "# add additional characters: space, hyphen공백과 -\n",
    "additional_chars = [' ', '-']\n",
    "\n",
    "# create dictionary that maps jamo to integer\n",
    "jamo_to_int = {jamo: i+2 for i, jamo in enumerate(chosungs + jungsungs + jongsungs + additional_chars)} # 2 is added to consider space and hyphen\n",
    "\n",
    "print(jamo_to_int)\n"
   ]
  },
  {
   "cell_type": "code",
   "execution_count": null,
   "metadata": {},
   "outputs": [],
   "source": [
    "# 한글 초성, 중성, 종성의 자모 정의\n",
    "chosungs = list('ㄱㄲㄴㄷㄸㄹㅁㅂㅃㅅㅆㅇㅈㅉㅊㅋㅌㅍㅎ') # 19\n",
    "jungsungs = list('ㅏㅐㅑㅒㅓㅔㅕㅖㅗㅘㅙㅚㅛㅜㅝㅞㅟㅠㅡㅢㅣ') # 21\n",
    "jongsungs = list('ㄱㄲㄳㄴㄵㄶㄷㄹㄺㄻㄼㄽㄾㄿㅀㅁㅂㅄㅅㅆㅇㅈㅊㅋㅌㅍㅎ') # 27\n",
    "\n",
    "# add additional characters: space, hyphen공백과 -\n",
    "additional_chars = [' ', '-']\n",
    "\n",
    "# create dictionary that maps jamo to integer\n",
    "jamo_to_int = {jamo: i+2 for i, jamo in enumerate(chosungs + jungsungs + jongsungs + additional_chars)} # 2 is added to consider space and hyphen\n",
    "\n",
    "jamo_to_int\n"
   ]
  },
  {
   "cell_type": "code",
   "execution_count": null,
   "metadata": {},
   "outputs": [],
   "source": []
  },
  {
   "cell_type": "code",
   "execution_count": 67,
   "metadata": {},
   "outputs": [],
   "source": [
    "# Define the chosungs, jungsungs, jongsungs, and additional_chars variables\n",
    "chosungs = list('ㄱㄲㄴㄷㄸㄹㅁㅂㅃㅅㅆㅇㅈㅉㅊㅋㅌㅍㅎ') # 19\n",
    "jungsungs = list('ㅏㅐㅑㅒㅓㅔㅕㅖㅗㅘㅙㅚㅛㅜㅝㅞㅟㅠㅡㅢㅣ') # 21\n",
    "jongsungs = list('ㄱㄲㄳㄴㄵㄶㄷㄹㄺㄻㄼㄽㄾㄿㅀㅁㅂㅄㅅㅆㅇㅈㅊㅋㅌㅍㅎ') # 27\n",
    "additional_chars = [' ', '-']\n",
    "\n",
    "# Define the jamo_to_int dictionary\n",
    "jamo_to_int = {jamo: i+2 for i, jamo in enumerate(chosungs + jungsungs + jongsungs + additional_chars)} # 2 is added to consider space and hyphen\n",
    "\n",
    "# Define the int_to_jamo dictionary\n",
    "int_to_jamo = {i: jamo for jamo, i in jamo_to_int.items()}\n",
    "\n",
    "# Test the int_sequence_to_jamo_string function\n",
    "# int_sequence_to_jamo_string(test_sequence)\n"
   ]
  },
  {
   "cell_type": "code",
   "execution_count": 76,
   "metadata": {},
   "outputs": [],
   "source": [
    "def int_sequence_to_jamo_string(int_sequence):\n",
    "    return ''.join(int_to_jamo[i] for i in int_sequence)"
   ]
  },
  {
   "cell_type": "code",
   "execution_count": 79,
   "metadata": {},
   "outputs": [],
   "source": [
    "int2jamo = int_sequence_to_jamo_string(integer_encoded)"
   ]
  },
  {
   "cell_type": "code",
   "execution_count": 78,
   "metadata": {},
   "outputs": [],
   "source": [
    "integer_encoded = []\n",
    "for token in a:\n",
    "    for jamo in token:\n",
    "        if jamo in jamo_to_int:\n",
    "            integer_encoded.append(jamo_to_int[jamo])"
   ]
  },
  {
   "cell_type": "code",
   "execution_count": 63,
   "metadata": {},
   "outputs": [
    {
     "name": "stdout",
     "output_type": "stream",
     "text": [
      "[63, 41, 70, 42, 39, 57, 62, 40, 70, 42, 34, 42, 42, 21, 70, 42, 21, 70, 63, 41, 42, 57, 27, 45, 68, 21, 70, 45, 39, 45, 62, 37, 70, 42, 41, 70, 45, 39, 45, 63, 25, 45, 66, 29, 62, 60, 21, 70, 68, 32, 70, 62, 40, 70, 42, 39, 70, 42, 25, 60, 42, 30, 70, 62, 37, 70, 42, 41, 70, 62, 40, 70, 42, 38, 70, 57, 29, 70, 10, 34, 45, 57, 21, 45, 62, 21, 70, 45, 41, 70, 49, 21, 70, 63, 29, 62, 49, 38, 70, 62, 30, 70, 60, 25, 62, 63, 41, 49, 57, 27, 45, 62, 26, 70, 60, 25, 70, 60, 21, 70, 57, 34, 60, 48, 21, 70, 49, 39, 70, 48, 21, 70, 42, 29, 70, 68, 21, 49, 60, 34, 70, 62, 41, 61, 48, 21, 70, 63, 39, 42, 68, 27, 45, 48, 22, 70, 60, 21, 70, 68, 32, 70, 62, 26, 70, 60, 25, 70, 45, 39, 45, 57, 22, 70, 62, 34, 70, 48, 21, 70, 62, 23, 62, 68, 21, 70, 42, 29, 70, 42, 30, 62, 58, 25, 57, 62, 37, 70, 68, 21, 70, 42, 26, 70, 62, 37, 70, 42, 41, 70, 42, 21, 70, 58, 21, 49, 60, 22, 62, 68, 21, 49, 10, 34, 45, 57, 21, 45, 62, 21, 70, 45, 41, 70, 49, 21, 70, 63, 41, 70, 42, 34, 70, 62, 29, 45, 45, 21, 45, 68, 30, 70, 62, 26, 70, 6, 21, 70, 49, 39, 45, 42, 21, 42, 63, 29, 62, 63, 21, 70, 62, 27, 45, 63, 22, 70, 68, 22, 70, 49, 29, 70, 58, 34, 70, 66, 25, 70, 62, 41, 45, 62, 37, 70, 63, 25, 42, 63, 22, 70, 45, 21, 45, 62, 41, 45, 60, 21, 70, 68, 32, 70, 63, 25, 42, 62, 41, 70, 60, 38, 70, 49, 29, 70, 62, 41, 45, 68, 21, 45, 62, 37, 70, 42, 41, 70, 62, 26, 70, 62, 41, 70, 49, 39, 70, 42, 41, 70, 43, 21, 70, 63, 41, 70, 58, 29, 42, 63, 21, 58, 68, 21, 45, 62, 23, 62, 60, 21, 62, 62, 39, 49, 58, 29, 70, 62, 41, 70, 42, 29, 70, 62, 41, 61, 48, 21, 70, 6, 21, 70, 49, 21, 70, 60, 25, 70, 62, 37, 70, 42, 41, 70, 62, 40, 70, 62, 27, 62, 68, 23, 62, 62, 39, 45, 68, 21, 45, 60, 21, 45, 62, 25, 58, 10, 34, 45, 57, 21, 45, 62, 21, 70, 45, 41, 70, 49, 21, 70, 42, 34, 42, 42, 21, 70, 62, 40, 70, 63, 22, 70, 45, 21, 45, 62, 39, 70, 49, 29, 70, 62, 41, 70, 62, 25, 70, 63, 41, 70, 45, 39, 45, 42, 27, 62, 62, 34, 70, 42, 21, 70, 57, 21, 47, 48, 21, 70, 6, 21, 70, 49, 21, 70, 60, 25, 70, 42, 34, 42, 42, 21, 70, 45, 39, 45, 62, 41, 70, 49, 25, 70, 68, 21, 45, 62, 37, 70, 42, 41, 70, 60, 21, 62, 68, 30, 62, 62, 41, 70, 58, 21, 49, 60, 22, 62, 68, 21, 70, 62, 27, 61, 62, 39, 49, 42, 27, 62, 62, 34, 70, 62, 26, 70, 42, 39, 70, 63, 41, 62, 68, 34, 70, 49, 39, 49, 10, 21, 49, 49, 41, 70, 67, 21, 70, 62, 21, 42, 68, 21, 70, 42, 29, 70, 48, 22, 70, 62, 39, 62, 68, 21, 70, 63, 41, 70, 62, 21, 47, 62, 39, 70, 57, 27, 45, 62, 21, 45, 48, 32, 70, 45, 39, 45, 48, 26, 70, 42, 34, 42, 57, 41, 45, 62, 40, 70, 60, 22, 62, 57, 27, 62, 42, 30, 70, 63, 22, 70, 60, 21, 45, 62, 39, 49, 58, 29, 70, 68, 29, 70, 68, 21, 70, 45, 39, 45, 42, 25, 60, 62, 41, 70, 58, 21, 70, 49, 29, 70, 42, 34, 42, 42, 21, 70, 62, 40, 70, 42, 21, 70, 63, 21, 62, 42, 41, 70, 58, 29, 45, 63, 25, 42, 62, 41, 45, 62, 40, 70, 57, 34, 70, 62, 41, 70, 42, 41, 70, 6, 22, 70, 57, 34, 45, 62, 41, 70, 48, 21, 70]\n"
     ]
    }
   ],
   "source": [
    "print(integer_encoded)"
   ]
  },
  {
   "cell_type": "code",
   "execution_count": 83,
   "metadata": {},
   "outputs": [
    {
     "data": {
      "text/plain": [
       "717"
      ]
     },
     "execution_count": 83,
     "metadata": {},
     "output_type": "execute_result"
    }
   ],
   "source": [
    "len(integer_encoded)"
   ]
  },
  {
   "cell_type": "code",
   "execution_count": 82,
   "metadata": {},
   "outputs": [
    {
     "data": {
      "text/plain": [
       "'ㅈㅣ-ㄱㅡㅁㅇㅢ-ㄱㅜㄱㄱㅏ-ㄱㅏ-ㅈㅣㄱㅁㅕㄴㅎㅏ-ㄴㅡㄴㅇㅟ-ㄱㅣ-ㄴㅡㄴㅈㅓㄴㅌㅗㅇㅅㅏ-ㅎㅚ-ㅇㅢ-ㄱㅡ-ㄱㅓㅅㄱㅘ-ㅇㅟ-ㄱㅣ-ㅇㅢ-ㄱㅠ-ㅁㅗ-ㅃㅜㄴㅁㅏㄴㅇㅏ-ㄴㅣ-ㄹㅏ-ㅈㅗㅇㄹㅠ-ㅇㅘ-ㅅㅓㅇㅈㅣㄹㅁㅕㄴㅇㅔ-ㅅㅓ-ㅅㅏ-ㅁㅜㅅㄷㅏ-ㄹㅡ-ㄷㅏ-ㄱㅗ-ㅎㅏㄹㅅㅜ-ㅇㅣㅆㄷㅏ-ㅈㅡㄱㅎㅕㄴㄷㅐ-ㅅㅏ-ㅎㅚ-ㅇㅔ-ㅅㅓ-ㄴㅡㄴㅁㅐ-ㅇㅜ-ㄷㅏ-ㅇㅑㅇㅎㅏ-ㄱㅗ-ㄱㅘㅇㅂㅓㅁㅇㅟ-ㅎㅏ-ㄱㅔ-ㅇㅟ-ㄱㅣ-ㄱㅏ-ㅂㅏㄹㅅㅐㅇㅎㅏㄹㅃㅜㄴㅁㅏㄴㅇㅏ-ㄴㅣ-ㄹㅏ-ㅈㅣ-ㄱㅜ-ㅇㅗㄴㄴㅏㄴㅎㅘ-ㅇㅔ-ㄸㅏ-ㄹㅡㄴㄱㅏㄱㅈㅗㅇㅈㅏ-ㅇㅕㄴㅈㅐ-ㅎㅐ-ㄹㅗ-ㅂㅜ-ㅌㅓ-ㅇㅣㄴㅇㅟ-ㅈㅓㄱㅈㅐ-ㄴㅏㄴㅇㅣㄴㅅㅏ-ㅎㅚ-ㅈㅓㄱㅇㅣ-ㅅㅠ-ㄹㅗ-ㅇㅣㄴㅎㅏㄴㅇㅟ-ㄱㅣ-ㅇㅔ-ㅇㅣ-ㄹㅡ-ㄱㅣ-ㄲㅏ-ㅈㅣ-ㅂㅗㄱㅈㅏㅂㅎㅏㄴㅇㅑㅇㅅㅏㅇㅇㅡㄹㅂㅗ-ㅇㅣ-ㄱㅗ-ㅇㅣㅆㄷㅏ-ㄸㅏ-ㄹㅏ-ㅅㅓ-ㅇㅟ-ㄱㅣ-ㅇㅢ-ㅇㅕㅇㅎㅑㅇㅇㅡㄴㅎㅏㄴㅅㅏㄴㅇㅓㅂㅃㅜㄴㅁㅏㄴㅇㅏ-ㄴㅣ-ㄹㅏ-ㄱㅜㄱㄱㅏ-ㅇㅢ-ㅈㅐ-ㄴㅏㄴㅇㅡ-ㄹㅗ-ㅇㅣ-ㅇㅓ-ㅈㅣ-ㄴㅡㄴㄱㅕㅇㅇㅜ-ㄱㅏ-ㅁㅏㄶㄷㅏ-ㄸㅏ-ㄹㅏ-ㅅㅓ-ㄱㅜㄱㄱㅏ-ㄴㅡㄴㅇㅣ-ㄹㅓ-ㅎㅏㄴㅇㅟ-ㄱㅣ-ㅅㅏㅇㅎㅘㅇㅇㅣ-ㅂㅏㄹㅅㅐㅇㅎㅏ-ㅇㅕㅆㅇㅡㄹㄱㅕㅇㅇㅜ-ㅇㅔ-ㄱㅡ-ㅈㅣㅇㅎㅜ-ㄹㅡㄹㅃㅏㄹㄹㅣ-ㅍㅏ-ㅇㅏㄱㅎㅏ-ㄱㅗ-ㄷㅐ-ㅇㅡㅇㅎㅏ-ㅈㅣ-ㅇㅏㄶㅇㅡ-ㅁㅕㄴㅇㅏㄴㄷㅚ-ㄴㅡㄴㄷㅔ-ㄱㅜㄱㅁㅣㄴㅇㅢ-ㅅㅐㅇㅁㅕㅇㄱㅘ-ㅈㅐ-ㅅㅏㄴㅇㅡㄹㅂㅗ-ㅎㅗ-ㅎㅏ-ㄴㅡㄴㄱㅓㅅㅇㅣ-ㅂㅏ-ㄹㅗ-ㄱㅜㄱㄱㅏ-ㅇㅢ-ㄱㅏ-ㅈㅏㅇㄱㅣ-ㅂㅗㄴㅈㅓㄱㅇㅣㄴㅇㅢ-ㅁㅜ-ㅇㅣ-ㄱㅣ-ㄸㅐ-ㅁㅜㄴㅇㅣ-ㄷㅏ-'"
      ]
     },
     "execution_count": 82,
     "metadata": {},
     "output_type": "execute_result"
    }
   ],
   "source": [
    "test = ''.join(int2jamo)\n",
    "test"
   ]
  },
  {
   "cell_type": "code",
   "execution_count": null,
   "metadata": {},
   "outputs": [],
   "source": [
    "word_to_index = {}\n",
    "i = 0\n",
    "for (word, frequency) in vocab :\n",
    "    i = i + 1\n",
    "    word_to_index[word] = i\n",
    "\n",
    "print(word_to_index)\n"
   ]
  },
  {
   "cell_type": "code",
   "execution_count": null,
   "metadata": {},
   "outputs": [],
   "source": []
  },
  {
   "cell_type": "code",
   "execution_count": null,
   "metadata": {},
   "outputs": [],
   "source": []
  },
  {
   "cell_type": "code",
   "execution_count": null,
   "metadata": {},
   "outputs": [],
   "source": []
  },
  {
   "cell_type": "code",
   "execution_count": 49,
   "metadata": {},
   "outputs": [],
   "source": [
    "def jamo_to_word(jamo_sequence):\n",
    "    tokenized_jamo = []\n",
    "    index = 0\n",
    "\n",
    "    # 1. 초기입력\n",
    "    # jamo_sequence = 'ㄷㅏㄱ ㅌ ㅓ ㅇ ㅜ ㅣ'\n",
    "\n",
    "    while index < len(jamo_sequence):\n",
    "\n",
    "        # 문자가 한글(정상적인 자모) 아닐 경우\n",
    "        if not hgtk.checker.is_hangul(jamo_sequence[index]):\n",
    "            tokenized_jamo.append(jamo_sequence[index])\n",
    "            index = index + 1\n",
    "\n",
    "        # 문자가 한글(정상적인 자모) 라면 초성, 중성, 종성을 하나의 토큰으로 간주\n",
    "        else:\n",
    "            tokenized_jamo.append(jamo_sequence[index: index + 3])\n",
    "            index = index + 3\n",
    "\n",
    "        # 2. 자모 단위 토큰화 완료\n",
    "        # tokenized_jamo : ['ㄷ ㅏ ㄱ', 'ㅌ ㅓ', 'ㅇ ㅜ ㅣ']\n",
    "\n",
    "        word =''\n",
    "        try:\n",
    "            for jamo in tokenized_jamo:\n",
    "\n",
    "                # 초성, 중성, 종성의 묶음으로 추정되는 경우\n",
    "                if len(jamo) == 3:\n",
    "                    if jamo[2] == '-':\n",
    "                        # 종성이 존재하지 않는 경우\n",
    "                        word = word + hgtk.letter.compose(jamo[0],jamo[1])\n",
    "                    else:\n",
    "                        # 종성이 존재할 경우\n",
    "                        word = word + hgtk.letter.compose(jamo[0],jamo[1],jamo[2])\n",
    "\n",
    "                # 한글이 아닌 경우\n",
    "                else:\n",
    "                    word = word + jamo\n",
    "\n",
    "        # 복원 중(hgtk.letter.compose) 에러 발생 시 초기 입력 리턴\n",
    "        # 복원이 불가능할 경우 예시) 'ㄷ!ㄱㅌㅓㅇㅜ!'\n",
    "        except Exception as exception:\n",
    "            if type(exception).__name__ == 'NotHangulException':\n",
    "                return jamo_sequence\n",
    "\n",
    "        # 3. 단어로 복원 완료\n",
    "        # word : '닥터윌'\n",
    "\n",
    "    return word"
   ]
  },
  {
   "cell_type": "code",
   "execution_count": 81,
   "metadata": {},
   "outputs": [
    {
     "data": {
      "text/plain": [
       "'지금의국가가직면하는위기는전통사회의그것과위기의규모뿐만아니라종류와성질면에서사뭇다르다고할수있다즉현대사회에서는매우다양하고광범위하게위기가발생할뿐만아니라지구온난화에따른각종자연재해로부터인위적재난인사회적이슈로인한위기에이르기까지복잡한양상을보이고있다따라서위기의영향은한산업뿐만아니라국가의재난으로이어지는경우가많다따라서국가는이러한위기상황이발생하였을경우에그징후를빨리파악하고대응하지않으면안되는데국민의생명과재산을보호하는것이바로국가의가장기본적인의무이기때문이다'"
      ]
     },
     "execution_count": 81,
     "metadata": {},
     "output_type": "execute_result"
    }
   ],
   "source": [
    "jamo_to_word(int2jamo)"
   ]
  },
  {
   "cell_type": "code",
   "execution_count": null,
   "metadata": {},
   "outputs": [],
   "source": []
  }
 ],
 "metadata": {
  "kernelspec": {
   "display_name": "cuda",
   "language": "python",
   "name": "python3"
  },
  "language_info": {
   "codemirror_mode": {
    "name": "ipython",
    "version": 3
   },
   "file_extension": ".py",
   "mimetype": "text/x-python",
   "name": "python",
   "nbconvert_exporter": "python",
   "pygments_lexer": "ipython3",
   "version": "3.9.16"
  },
  "orig_nbformat": 4
 },
 "nbformat": 4,
 "nbformat_minor": 2
}
